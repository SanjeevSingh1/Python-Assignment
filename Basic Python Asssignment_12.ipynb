{
 "cells": [
  {
   "cell_type": "markdown",
   "id": "aef08f67",
   "metadata": {},
   "source": [
    "# 1. In what modes should the PdfFileReader() and PdfFileWriter() File objects will be opened?"
   ]
  },
  {
   "cell_type": "markdown",
   "id": "c3d9b591",
   "metadata": {},
   "source": [
    "Read-binary `('rb')` for __`PdfFileReader()`__ and write-binary `('wb')` for __`PdfFileWriter()`__"
   ]
  },
  {
   "cell_type": "markdown",
   "id": "9c980b6b",
   "metadata": {},
   "source": [
    "# 2. From a PdfFileReader object, how do you get a Page object for page 5?"
   ]
  },
  {
   "cell_type": "markdown",
   "id": "7d12f202",
   "metadata": {},
   "source": [
    "Calling __`getPages(4)`__ will return a Page object for page 5, since page 0 is the first page."
   ]
  },
  {
   "cell_type": "markdown",
   "id": "dce073b9",
   "metadata": {},
   "source": [
    "# 3. What PdfFileReader variable stores the number of pages in the PDF document?"
   ]
  },
  {
   "cell_type": "markdown",
   "id": "2d1dff7d",
   "metadata": {},
   "source": [
    "The `getNumPages()` variable stores an integer of the number of pages in the `PdfFileReader` object.\n"
   ]
  },
  {
   "cell_type": "markdown",
   "id": "e3c7fbfa",
   "metadata": {},
   "source": [
    "# 4. If a PdfFileReader object’s PDF is encrypted with the password swordfish, what must you do before you can obtain Page objects from it?"
   ]
  },
  {
   "cell_type": "markdown",
   "id": "6fc0e201",
   "metadata": {},
   "source": [
    "Call __`decrypt('swordfish')`__.\n",
    "\n"
   ]
  },
  {
   "cell_type": "markdown",
   "id": "7f2fd036",
   "metadata": {},
   "source": [
    "# 5. What methods do you use to rotate a page?"
   ]
  },
  {
   "cell_type": "markdown",
   "id": "5c0da9a3",
   "metadata": {},
   "source": [
    "The `rotateClockwise()` and \n",
    "\n",
    "`rotateCounterClockwise()` methods. The degrees to rotate is passed as an integer argument.\n",
    "\n"
   ]
  },
  {
   "cell_type": "markdown",
   "id": "a6faa143",
   "metadata": {},
   "source": [
    "# 6. What is the difference between a Run object and a Paragraph object?"
   ]
  },
  {
   "cell_type": "markdown",
   "id": "51f94220",
   "metadata": {},
   "source": [
    "A document contains multiple paragraphs. A paragraph begins on a new line and contains multiple runs. Runs are contiguous groups of characters within a paragraph"
   ]
  },
  {
   "cell_type": "markdown",
   "id": "d1ce8329",
   "metadata": {},
   "source": [
    "# 7. How do you obtain a list of Paragraph objects for a Document object that’s stored in a variable named doc?"
   ]
  },
  {
   "cell_type": "markdown",
   "id": "a8655388",
   "metadata": {},
   "source": [
    "Use __`doc.paragraphs`__.\n",
    "\n"
   ]
  },
  {
   "cell_type": "markdown",
   "id": "0d87d721",
   "metadata": {},
   "source": [
    "# 8. What type of object has bold, underline, italic, strike, and outline variables?"
   ]
  },
  {
   "cell_type": "markdown",
   "id": "43e80e02",
   "metadata": {},
   "source": [
    "A Run object has these variables (not a Paragraph).\n",
    "\n"
   ]
  },
  {
   "cell_type": "markdown",
   "id": "a7fc005c",
   "metadata": {},
   "source": [
    "# 9. What is the difference between False, True, and None for the bold variable?"
   ]
  },
  {
   "cell_type": "markdown",
   "id": "90a79b11",
   "metadata": {},
   "source": [
    "True always makes the Run object bolded and False makes it always not bolded, no matter what the style’s bold setting is. None will make the Run object just use the style’s bold setting."
   ]
  },
  {
   "cell_type": "markdown",
   "id": "652bbb2c",
   "metadata": {},
   "source": [
    "# 10. How do you create a Document object for a new Word document?"
   ]
  },
  {
   "cell_type": "markdown",
   "id": "bb434223",
   "metadata": {},
   "source": [
    "Call the __`docx.Document() Function`__."
   ]
  },
  {
   "cell_type": "markdown",
   "id": "3b90712d",
   "metadata": {},
   "source": [
    "# 11. How do you add a paragraph with the text &#39;Hello, there!&#39; to a Document object stored in a variable named doc?"
   ]
  },
  {
   "cell_type": "markdown",
   "id": "06b255b2",
   "metadata": {},
   "source": [
    "doc.add_paragraph('Hello there!')"
   ]
  },
  {
   "cell_type": "markdown",
   "id": "e683b34e",
   "metadata": {},
   "source": [
    "# 12. What integers represent the levels of headings available in Word documents?"
   ]
  },
  {
   "cell_type": "markdown",
   "id": "6ea6819b",
   "metadata": {},
   "source": [
    "The integers 0, 1, 2, 3, and 4\n",
    "\n"
   ]
  },
  {
   "cell_type": "code",
   "execution_count": null,
   "id": "972c2b39",
   "metadata": {},
   "outputs": [],
   "source": []
  }
 ],
 "metadata": {
  "kernelspec": {
   "display_name": "Python 3 (ipykernel)",
   "language": "python",
   "name": "python3"
  },
  "language_info": {
   "codemirror_mode": {
    "name": "ipython",
    "version": 3
   },
   "file_extension": ".py",
   "mimetype": "text/x-python",
   "name": "python",
   "nbconvert_exporter": "python",
   "pygments_lexer": "ipython3",
   "version": "3.11.5"
  }
 },
 "nbformat": 4,
 "nbformat_minor": 5
}
