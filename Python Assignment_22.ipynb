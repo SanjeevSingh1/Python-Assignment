{
 "cells": [
  {
   "cell_type": "markdown",
   "id": "c2884118-c6d8-4761-9a7e-ed3c2874efe4",
   "metadata": {},
   "source": [
    "# 1. What is the result of the code, and explain?\n",
    "&gt;&gt;&gt; X = &#39;iNeuron&#39;\n",
    "\n",
    "&gt;&gt;&gt; def func():\n",
    "\n",
    "print(X)\n",
    "\n",
    "&gt;&gt;&gt; func()"
   ]
  },
  {
   "cell_type": "code",
   "execution_count": 4,
   "id": "bf3f9f1c-1109-427b-b57a-b7b6d8e6b1de",
   "metadata": {},
   "outputs": [
    {
     "name": "stdout",
     "output_type": "stream",
     "text": [
      "iNeuron\n"
     ]
    }
   ],
   "source": [
    "X = 'iNeuron'\n",
    "\n",
    "def func():\n",
    "    print(X)\n",
    "    \n",
    "func()\n",
    "\n",
    "# The global variables are accessible inside the functions in python. But we can not access function variable outside function.\n",
    "# Here, X is a global variable, so we are able to print it inside the function solution."
   ]
  },
  {
   "cell_type": "markdown",
   "id": "ff49d2cd-8f32-46fc-b195-a5a81850df4e",
   "metadata": {},
   "source": [
    "# 2. What is the result of the code, and explain?\n",
    "\n",
    "&gt;&gt;&gt; X = &#39;iNeuron&#39;\n",
    "\n",
    "&gt;&gt;&gt; def func():\n",
    "\n",
    "X = &#39;NI!&#39;\n",
    "\n",
    "&gt;&gt;&gt; func()\n",
    "\n",
    "&gt;&gt;&gt; print(X)"
   ]
  },
  {
   "cell_type": "code",
   "execution_count": 14,
   "id": "e9f95d21-f0f5-4a65-97e1-456c65f02742",
   "metadata": {},
   "outputs": [
    {
     "name": "stdout",
     "output_type": "stream",
     "text": [
      "iNeuron\n"
     ]
    }
   ],
   "source": [
    "X = 'iNeuron'\n",
    "\n",
    "def func():\n",
    "    X = 'NI'\n",
    "    \n",
    "func()\n",
    "print(X)\n",
    "\n",
    "# The global variables are access inside the functions. But we can not access function variable outside the function.\n",
    "# Since, X is the global variable we are able to print it outside the function solution."
   ]
  },
  {
   "cell_type": "markdown",
   "id": "cb57b539-1bba-40ce-8a1b-fdcddc4dd70b",
   "metadata": {},
   "source": [
    "# 3. What does this code print, and why?\n",
    "\n",
    "&gt;&gt;&gt; X = &#39;iNeuron&#39;\n",
    "\n",
    "&gt;&gt;&gt; def func():\n",
    "\n",
    "X = &#39;NI&#39;\n",
    "\n",
    "print(X)\n",
    "\n",
    "&gt;&gt;&gt; func()\n",
    "\n",
    "&gt;&gt;&gt; print(X)"
   ]
  },
  {
   "cell_type": "code",
   "execution_count": 15,
   "id": "aa4df6b5-601c-4e9a-aafa-3c3494594c05",
   "metadata": {},
   "outputs": [
    {
     "name": "stdout",
     "output_type": "stream",
     "text": [
      "NI\n",
      "iNeuron\n"
     ]
    }
   ],
   "source": [
    "X = 'iNeuron'\n",
    "\n",
    "def func():\n",
    "    X = 'NI'\n",
    "    print(X)\n",
    "    \n",
    "func()\n",
    "print(X)\n",
    "\n",
    "# We can not access function variable outside the function. X is updated with 'NI' which is local varible to the function and \n",
    "# is immutable. "
   ]
  },
  {
   "cell_type": "markdown",
   "id": "17775a5d-e20f-4c38-a734-fe118ca53fcd",
   "metadata": {},
   "source": [
    "# 4. What output does this code produce? Why?\n",
    "\n",
    "&gt;&gt;&gt; X = &#39;iNeuron&#39;\n",
    "\n",
    "&gt;&gt;&gt; def func():\n",
    "\n",
    "global X\n",
    "\n",
    "X = &#39;NI&#39;\n",
    "\n",
    "&gt;&gt;&gt; func()\n",
    "\n",
    "&gt;&gt;&gt; print(X)"
   ]
  },
  {
   "cell_type": "code",
   "execution_count": 16,
   "id": "d3cc5daa-1988-4fcf-9758-47cb337a5161",
   "metadata": {},
   "outputs": [
    {
     "name": "stdout",
     "output_type": "stream",
     "text": [
      "NI\n"
     ]
    }
   ],
   "source": [
    "X = 'iNeuron'\n",
    "\n",
    "def func():\n",
    "    global X\n",
    "    X='NI'\n",
    "    \n",
    "func()\n",
    "print(X)\n",
    "\n",
    "# Since X is inside the function, is made global it will be accessible outside of the function too. Now X will have new value. "
   ]
  },
  {
   "cell_type": "markdown",
   "id": "6ed5b47e-ce34-4ed9-8a26-90ce1f17bb77",
   "metadata": {},
   "source": [
    "# 5. What about this code—what’s the output, and why?\n",
    "\n",
    "&gt;&gt;&gt; X = &#39;iNeuron&#39;\n",
    "\n",
    "&gt;&gt;&gt; def func():\n",
    "    \n",
    "X = &#39;NI&#39;\n",
    "\n",
    "def nested():\n",
    "\n",
    "print(X)\n",
    "\n",
    "nested()\n",
    "\n",
    "&gt;&gt;&gt; func()\n",
    "\n",
    "&gt;&gt;&gt; X"
   ]
  },
  {
   "cell_type": "code",
   "execution_count": 17,
   "id": "62d47e58-1717-4484-af84-bed351afe066",
   "metadata": {},
   "outputs": [
    {
     "name": "stdout",
     "output_type": "stream",
     "text": [
      "NI\n"
     ]
    },
    {
     "data": {
      "text/plain": [
       "'iNeuron'"
      ]
     },
     "execution_count": 17,
     "metadata": {},
     "output_type": "execute_result"
    }
   ],
   "source": [
    "X = 'iNeuron'\n",
    "\n",
    "def func():\n",
    "    X = 'NI'\n",
    "    def nested():\n",
    "        print(X)\n",
    "    nested()\n",
    "\n",
    "func()\n",
    "X\n",
    "\n",
    "# The nested() function will print 'iNeuron', Then func() does display X = 'NI' function."
   ]
  },
  {
   "cell_type": "markdown",
   "id": "203a4be0-89a7-49e0-a01f-3cdd06752acf",
   "metadata": {},
   "source": [
    "# 6. How about this code: what is its output in Python 3, and explain?\n",
    "\n",
    "&gt;&gt;&gt; def func():\n",
    "    \n",
    "X = &#39;NI&#39;\n",
    "\n",
    "def nested():\n",
    "\n",
    "nonlocal X\n",
    "\n",
    "X = &#39;Spam&#39;\n",
    "\n",
    "nested()\n",
    "\n",
    "print(X)\n",
    "\n",
    "&gt;&gt;&gt; func()"
   ]
  },
  {
   "cell_type": "code",
   "execution_count": 18,
   "id": "e647276c-ea6e-4f45-945d-0bcfd5a93127",
   "metadata": {},
   "outputs": [
    {
     "name": "stdout",
     "output_type": "stream",
     "text": [
      "Spam\n"
     ]
    }
   ],
   "source": [
    "def func():\n",
    "    X = 'NI'\n",
    "    def nested():\n",
    "        nonlocal X\n",
    "        X = 'Spam'\n",
    "    nested()\n",
    "    print(X)\n",
    "    \n",
    "func()\n",
    "\n",
    "# Nonlocal variable are used in nested function whose local scope is not defined. This means that the varible can be neither \n",
    "# local nor global scope, it print the updated value from nested function."
   ]
  },
  {
   "cell_type": "code",
   "execution_count": null,
   "id": "55f20674-92b5-41b1-ab49-8056c5961009",
   "metadata": {},
   "outputs": [],
   "source": []
  }
 ],
 "metadata": {
  "kernelspec": {
   "display_name": "Python 3 (ipykernel)",
   "language": "python",
   "name": "python3"
  },
  "language_info": {
   "codemirror_mode": {
    "name": "ipython",
    "version": 3
   },
   "file_extension": ".py",
   "mimetype": "text/x-python",
   "name": "python",
   "nbconvert_exporter": "python",
   "pygments_lexer": "ipython3",
   "version": "3.10.6"
  }
 },
 "nbformat": 4,
 "nbformat_minor": 5
}
