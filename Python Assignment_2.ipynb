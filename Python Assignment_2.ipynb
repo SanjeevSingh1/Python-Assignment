{
 "cells": [
  {
   "cell_type": "markdown",
   "metadata": {},
   "source": [
    "# 1.What are the two values of the Boolean data type? How do you write them?"
   ]
  },
  {
   "cell_type": "markdown",
   "metadata": {},
   "source": [
    "True , False are the two values of the Boolen data type. \\\\\\ we write it as first letter as uppercase (T, F) and the rest is all lowercase \n",
    "\n",
    "True\n",
    "\n",
    "False "
   ]
  },
  {
   "cell_type": "markdown",
   "metadata": {},
   "source": [
    "# 2. What are the three different types of Boolean operators?"
   ]
  },
  {
   "cell_type": "markdown",
   "metadata": {},
   "source": [
    "(1) AND\n",
    "\n",
    "(2) OR\n",
    "\n",
    "(3) NOT\n",
    "\n",
    "are the three different types of Boolean operators"
   ]
  },
  {
   "cell_type": "markdown",
   "metadata": {},
   "source": [
    "# 3. Make a list of each Boolean operator's truth tables (i.e. every possible combination of Boolean values for the operator and what it evaluate )."
   ]
  },
  {
   "cell_type": "markdown",
   "metadata": {},
   "source": [
    "AND operator truth table :\n",
    "\n",
    " True \\          True \\           True \\\n",
    " \n",
    " True \\          False \\         False \\\n",
    " \n",
    " False \\         True \\           False \\\n",
    " \n",
    " False  \\        False \\          False "
   ]
  },
  {
   "cell_type": "markdown",
   "metadata": {},
   "source": [
    "OR operator truth table :\n",
    "\n",
    "\n",
    "True \\       True \\        True \\\n",
    "\n",
    "True \\       False \\       True \\\n",
    "\n",
    "False \\      True \\        True \\\n",
    "\n",
    "False \\      False \\       False"
   ]
  },
  {
   "cell_type": "markdown",
   "metadata": {},
   "source": [
    "NOT operator truth table :\n",
    "\n",
    "\n",
    "True NOT is False \\\n",
    "False NOT is  True"
   ]
  },
  {
   "cell_type": "markdown",
   "metadata": {},
   "source": [
    "# 4. What are the values of the following expressions?\n",
    "\n",
    "\n",
    "#(5 > 4) and (3 == 5)\n",
    "#not (5 > 4)\n",
    "#(5 > 4) or (3 == 5)\n",
    "#not ((5 > 4) or (3 == 5))\n",
    "#(True and True) and (True == False)\n",
    "#(not False) or (not True)\n"
   ]
  },
  {
   "cell_type": "code",
   "execution_count": 81,
   "metadata": {},
   "outputs": [
    {
     "name": "stdout",
     "output_type": "stream",
     "text": [
      "False\n",
      "False\n",
      "True\n",
      "False\n",
      "False\n",
      "True\n"
     ]
    }
   ],
   "source": [
    "print ((5 > 4) and (3 == 5))\n",
    "print (not (5 > 4))\n",
    "print ((5 > 4) or (3 == 5))\n",
    "print (not ((5 > 4) or (3 == 5)))\n",
    "print ((True and True) and (True == False))\n",
    "print ((not False) or (not True))"
   ]
  },
  {
   "cell_type": "markdown",
   "metadata": {},
   "source": [
    "# 5. What are the six comparison operators?"
   ]
  },
  {
   "cell_type": "markdown",
   "metadata": {},
   "source": [
    "Greater than : >\n",
    "\n",
    "Less than : <\n",
    "\n",
    "Equal to : ==\n",
    "\n",
    "Not equal to : !=\n",
    "\n",
    "Greater than equal to : >=\n",
    "\n",
    "Less than equal to : <="
   ]
  },
  {
   "cell_type": "markdown",
   "metadata": {},
   "source": [
    "# 6. How do you tell the difference between the equal to and assignment operators?Describe a condition and when you would use one."
   ]
  },
  {
   "cell_type": "markdown",
   "metadata": {},
   "source": [
    "Equal to operator : It is used to compare two variable or expression, it can numbers, strings, Boolean values, variables, objects, arrays, functions.\n",
    "\n",
    "\n",
    "Assignment operator : It is used to store a value in variables.\n"
   ]
  },
  {
   "cell_type": "code",
   "execution_count": 18,
   "metadata": {},
   "outputs": [
    {
     "name": "stdout",
     "output_type": "stream",
     "text": [
      "not integer\n"
     ]
    }
   ],
   "source": [
    "a = 10\n",
    "if a == '10':\n",
    "    print('integer value')\n",
    "else:\n",
    "    print('not integer')"
   ]
  },
  {
   "cell_type": "markdown",
   "metadata": {},
   "source": [
    "# 7. Identify the three blocks in this code:\n",
    "\n",
    "spam = 0\n",
    "\n",
    "if spam == 10:\n",
    "\n",
    "print('eggs')\n",
    "\n",
    "if spam > 5:\n",
    "\n",
    "print('bacon')\n",
    "\n",
    "else:\n",
    "\n",
    "print('ham')\n",
    "\n",
    "print('spam')\n",
    "\n",
    "print('spam')\n"
   ]
  },
  {
   "cell_type": "code",
   "execution_count": 19,
   "metadata": {},
   "outputs": [
    {
     "name": "stdout",
     "output_type": "stream",
     "text": [
      "ham\n",
      "spam\n",
      "spam\n"
     ]
    }
   ],
   "source": [
    "spam = 0\n",
    "\n",
    "if spam == 10:\n",
    "    print('eggs')  # blocks\n",
    "\n",
    "if spam > 5:\n",
    "    print('bacon')   #blocks\n",
    "\n",
    "else:\n",
    "    print('ham')    #blocks\n",
    "    print('spam')\n",
    "    print('spam')"
   ]
  },
  {
   "cell_type": "markdown",
   "metadata": {},
   "source": [
    "# 8. Write code that prints Hello if 1 is stored in spam, prints Howdy if 2 is stored in spam, and prints Greetings! if anything else is stored in spam."
   ]
  },
  {
   "cell_type": "code",
   "execution_count": 56,
   "metadata": {},
   "outputs": [
    {
     "name": "stdout",
     "output_type": "stream",
     "text": [
      "Greetings\n",
      "Hello\n",
      "Howdy\n"
     ]
    }
   ],
   "source": [
    "def spam1(spam):\n",
    "    if spam == 1:\n",
    "        print(\"Hello\")\n",
    "    \n",
    "    elif spam == 2:\n",
    "        print(\"Howdy\")\n",
    "    \n",
    "    else:\n",
    "        print(\"Greetings\")\n",
    "\n",
    "spam = spam1(spam)\n",
    "spam1(1)\n",
    "spam1(2)"
   ]
  },
  {
   "cell_type": "markdown",
   "metadata": {},
   "source": [
    "# 9.If your programme is stuck in an endless loop, what keys you’ll press?"
   ]
  },
  {
   "cell_type": "markdown",
   "metadata": {},
   "source": [
    "Ctrl + C "
   ]
  },
  {
   "cell_type": "markdown",
   "metadata": {},
   "source": [
    "# 10. How can you tell the difference between break and continue?"
   ]
  },
  {
   "cell_type": "markdown",
   "metadata": {},
   "source": [
    "break statement is used to stop the whole process for loop after code get excecuted, while continue statement is used to end the current statement and move to next line of code. "
   ]
  },
  {
   "cell_type": "markdown",
   "metadata": {},
   "source": [
    "# 11. In a for loop, what is the difference between range(10), range(0, 10), and range(0, 10, 1)?"
   ]
  },
  {
   "cell_type": "markdown",
   "metadata": {},
   "source": [
    "range(10) - It tell to python take all the value till excluding 10\n",
    "\n",
    "range(0,10) - It tell python to start from 0 till 10 value excluding 10\n",
    "\n",
    "range(0,10,1) - It tell python to start from 0 till 10 with stepsize 1, excluding 10"
   ]
  },
  {
   "cell_type": "markdown",
   "metadata": {},
   "source": [
    "# 12. Write a short program that prints the numbers 1 to 10 using a for loop. Then write an equivalent program that prints the numbers 1 to 10 using a while loop."
   ]
  },
  {
   "cell_type": "code",
   "execution_count": 61,
   "metadata": {},
   "outputs": [
    {
     "name": "stdout",
     "output_type": "stream",
     "text": [
      "0\n",
      "1\n",
      "2\n",
      "3\n",
      "4\n",
      "5\n",
      "6\n",
      "7\n",
      "8\n",
      "9\n",
      "10\n",
      "using while loop\n",
      "0 1 2 3 4 5 6 7 8 9 10 "
     ]
    }
   ],
   "source": [
    "# using for loop\n",
    "\n",
    "for i in range(11):\n",
    "    print(i)\n",
    "    \n",
    "    \n",
    "print (\"using while loop\")\n",
    "\n",
    "i = 0\n",
    "while i<=10:\n",
    "    print(i, end = \" \")\n",
    "    i=i+1"
   ]
  },
  {
   "cell_type": "markdown",
   "metadata": {},
   "source": [
    "# 13. If you had a function named bacon() inside a module named spam, how would you call it after importing spam?"
   ]
  },
  {
   "cell_type": "markdown",
   "metadata": {},
   "source": [
    "spam.bacon()"
   ]
  },
  {
   "cell_type": "code",
   "execution_count": null,
   "metadata": {},
   "outputs": [],
   "source": []
  }
 ],
 "metadata": {
  "kernelspec": {
   "display_name": "Python 3",
   "language": "python",
   "name": "python3"
  },
  "language_info": {
   "codemirror_mode": {
    "name": "ipython",
    "version": 3
   },
   "file_extension": ".py",
   "mimetype": "text/x-python",
   "name": "python",
   "nbconvert_exporter": "python",
   "pygments_lexer": "ipython3",
   "version": "3.8.3"
  }
 },
 "nbformat": 4,
 "nbformat_minor": 4
}
