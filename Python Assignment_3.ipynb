{
 "cells": [
  {
   "cell_type": "markdown",
   "id": "33c339ba-d48d-4c72-9ff3-6dc21d59be03",
   "metadata": {},
   "source": [
    "# 1. Why are functions advantageous to have in your programs?"
   ]
  },
  {
   "cell_type": "markdown",
   "id": "cf7af8fc-2500-4127-92a5-b663ac2039e9",
   "metadata": {},
   "source": [
    "Functions reduce the need for the duplicate code, which make programs shorter, easier to read, and easier to update"
   ]
  },
  {
   "cell_type": "markdown",
   "id": "73ca28cc-731c-4350-88f0-9fb208975fc7",
   "metadata": {},
   "source": [
    "# 2. When does the code in a function run: when it&#39;s specified or when it&#39;s called?"
   ]
  },
  {
   "cell_type": "markdown",
   "id": "0d257528-1c7d-4598-bb89-d7faae8723a0",
   "metadata": {},
   "source": [
    "Code in a function run when it's called"
   ]
  },
  {
   "cell_type": "markdown",
   "id": "1e230551-8fdb-4c23-b132-6e3626b0e7c3",
   "metadata": {},
   "source": [
    "# 3. What statement creates a function?"
   ]
  },
  {
   "cell_type": "markdown",
   "id": "1e521351-7131-4fb7-a938-328e098a4882",
   "metadata": {},
   "source": [
    "def statement creates a function"
   ]
  },
  {
   "cell_type": "markdown",
   "id": "d6dbb4f1-62ae-45eb-bcd8-2d92a99e59c3",
   "metadata": {},
   "source": [
    "# 4. What is the difference between a function and a function call?"
   ]
  },
  {
   "cell_type": "markdown",
   "id": "436379c6-78f5-4973-babb-baf57d2e86ad",
   "metadata": {},
   "source": [
    "A function consists of the def statement and the code in its def clause"
   ]
  },
  {
   "cell_type": "markdown",
   "id": "9c6e6ce4-1f90-4945-abc4-0da72826adb6",
   "metadata": {},
   "source": [
    "Without function call we are not able to get any output from the function, function call is used to execute the codes in function and return values or output."
   ]
  },
  {
   "cell_type": "markdown",
   "id": "a2e7223a-e8f2-4da8-b43f-0ece65140e86",
   "metadata": {},
   "source": [
    "# 5. How many global scopes are there in a Python program? How many local scopes?"
   ]
  },
  {
   "cell_type": "markdown",
   "id": "65e4dd07-a3d0-415a-a3dd-3bfeb9f1f578",
   "metadata": {},
   "source": [
    "There is only one global scope in python per program execution. This scope remains in existence until the program terminates and a local scope is created whenever a function is called."
   ]
  },
  {
   "cell_type": "markdown",
   "id": "25b9717d-8b6a-40f5-9262-1293e26ea4ae",
   "metadata": {},
   "source": [
    "# 6. What happens to variables in a local scope when the function call returns?"
   ]
  },
  {
   "cell_type": "markdown",
   "id": "01fb1a7b-222e-4e7b-afb9-4754bbf4fa01",
   "metadata": {},
   "source": [
    "The variable in a local scope is destroyed when function call return."
   ]
  },
  {
   "cell_type": "markdown",
   "id": "78a13d8e-35cc-43b9-b07c-ec7106e2e871",
   "metadata": {},
   "source": [
    "# 7. What is the concept of a return value? Is it possible to have a return value in an expression?"
   ]
  },
  {
   "cell_type": "markdown",
   "id": "64cccbd3-6506-4fe0-8f88-587f366eb097",
   "metadata": {},
   "source": [
    "The concept of a return value is, after function call the function will start executing code line by line and return values accordingly. It is possible to have a return values in an expression."
   ]
  },
  {
   "cell_type": "markdown",
   "id": "3e37d2ae-03ff-48a6-9a89-ca87bbcd0806",
   "metadata": {},
   "source": [
    "# 8. If a function does not have a return statement, what is the return value of a call to that function?"
   ]
  },
  {
   "cell_type": "markdown",
   "id": "bc9cf431-3557-4da5-9799-4426356166f5",
   "metadata": {},
   "source": [
    "If a function does not havr a return statement the it will not return anything."
   ]
  },
  {
   "cell_type": "markdown",
   "id": "931efaa0-2c9b-4eab-9b80-8bd5155c25ef",
   "metadata": {},
   "source": [
    "# 9. How do you make a function variable refer to the global variable?"
   ]
  },
  {
   "cell_type": "markdown",
   "id": "a3d149e8-df46-4828-bcea-5aaea3eea269",
   "metadata": {},
   "source": [
    "To make function variable as a global variable we can use global keyword to declare which variable are global."
   ]
  },
  {
   "cell_type": "markdown",
   "id": "a479e23b-18de-4684-a080-0c7018e5fbc5",
   "metadata": {},
   "source": [
    "# 10. What is the data type of None?"
   ]
  },
  {
   "cell_type": "markdown",
   "id": "398a895c-9d36-4ee5-9d3a-07d13c4bbeea",
   "metadata": {},
   "source": [
    "The data type of None is NoneType."
   ]
  },
  {
   "cell_type": "markdown",
   "id": "f312383e-da60-48b0-a949-679210095046",
   "metadata": {},
   "source": [
    "# 11. What does the sentence import areallyourpetsnamederic do?"
   ]
  },
  {
   "cell_type": "markdown",
   "id": "d70e2621-52cc-4aee-a4bc-7db5ff09a1b6",
   "metadata": {},
   "source": [
    "The import satatement imports a module named areallyourpetsnamederic."
   ]
  },
  {
   "cell_type": "markdown",
   "id": "52d28b4e-1e52-4d09-bc01-e73ccaf2a978",
   "metadata": {},
   "source": [
    "# 12. If you had a bacon() feature in a spam module, what would you call it after importing spam?"
   ]
  },
  {
   "cell_type": "markdown",
   "id": "ce7376dc-f26b-4062-89bf-771bd05cba50",
   "metadata": {},
   "source": [
    "spam.bacon()"
   ]
  },
  {
   "cell_type": "markdown",
   "id": "6f3d608b-7033-48cb-8d50-908111ea3f2e",
   "metadata": {},
   "source": [
    "# 13. What can you do to save a programme from crashing if it encounters an error?"
   ]
  },
  {
   "cell_type": "markdown",
   "id": "0af29562-b6d8-4d4f-bed8-c77dc1ea217c",
   "metadata": {},
   "source": [
    "We can use try and except clause to save a programme from crashing."
   ]
  },
  {
   "cell_type": "markdown",
   "id": "a444e700-e13b-43de-acf2-49afe28219a0",
   "metadata": {},
   "source": [
    "# 14. What is the purpose of the try clause? What is the purpose of the except clause?"
   ]
  },
  {
   "cell_type": "markdown",
   "id": "b1bd262f-3795-46b6-b8d0-c27894a90b7b",
   "metadata": {},
   "source": [
    "Try and Except clause is used to handle the errors within our code . The try block is used to check some code for errors i.e the code inside the try block will execute when there is no error in the program. Whereas the code inside the except block will execute whenever the program encounters some error in the try block."
   ]
  },
  {
   "cell_type": "code",
   "execution_count": null,
   "id": "cd2bda76-a499-46ea-8512-a51b3873e016",
   "metadata": {},
   "outputs": [],
   "source": []
  }
 ],
 "metadata": {
  "kernelspec": {
   "display_name": "Python 3 (ipykernel)",
   "language": "python",
   "name": "python3"
  },
  "language_info": {
   "codemirror_mode": {
    "name": "ipython",
    "version": 3
   },
   "file_extension": ".py",
   "mimetype": "text/x-python",
   "name": "python",
   "nbconvert_exporter": "python",
   "pygments_lexer": "ipython3",
   "version": "3.10.6"
  }
 },
 "nbformat": 4,
 "nbformat_minor": 5
}
