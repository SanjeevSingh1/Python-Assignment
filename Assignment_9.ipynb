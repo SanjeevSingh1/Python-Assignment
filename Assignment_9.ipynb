{
 "cells": [
  {
   "cell_type": "markdown",
   "id": "43fd323b-9374-4b3a-a5d6-555a7cfcda7f",
   "metadata": {},
   "source": [
    "# 1. To what does a relative path refer?"
   ]
  },
  {
   "cell_type": "code",
   "execution_count": null,
   "id": "1be8c8c4-bd8c-487d-a811-b6077dbbfdf0",
   "metadata": {},
   "outputs": [],
   "source": [
    "Relative path refer to current working directory."
   ]
  },
  {
   "cell_type": "markdown",
   "id": "aaffd6e8-3db6-40cb-b465-62a144f209f4",
   "metadata": {},
   "source": [
    "# 2. What does an absolute path start with your operating system?"
   ]
  },
  {
   "cell_type": "markdown",
   "id": "167354b4-2002-46dc-80be-26012afde9f6",
   "metadata": {},
   "source": [
    "An absolute path start with root folder such as / or C:\\"
   ]
  },
  {
   "cell_type": "markdown",
   "id": "916dbc6d-2a87-4e33-bc85-1d94c0d4518e",
   "metadata": {},
   "source": [
    "# 3. What do the functions os.getcwd() and os.chdir() do?"
   ]
  },
  {
   "cell_type": "markdown",
   "id": "5756ca6c-91ed-421f-9904-367cbc8b91af",
   "metadata": {},
   "source": [
    "The os.getcwd() function will returns the current working directory.\n",
    "\n",
    "The os.chdir() function will change the current working diretory."
   ]
  },
  {
   "cell_type": "markdown",
   "id": "93fc1b4f-5c9f-4a23-853f-0991edf4d790",
   "metadata": {},
   "source": [
    "# 4. What are the . and .. folders?"
   ]
  },
  {
   "cell_type": "markdown",
   "id": "feca3174-3fee-4a12-9d7c-133cae9138b3",
   "metadata": {},
   "source": [
    "The . folder is the current folder.\n",
    "\n",
    "The .. folder is the parent folder."
   ]
  },
  {
   "cell_type": "markdown",
   "id": "7f2ffdb2-0a37-4d24-af2e-31a713e8070a",
   "metadata": {},
   "source": [
    "# 5. In C:\\bacon\\eggs\\spam.txt, which part is the dir name, and which part is the base name?"
   ]
  },
  {
   "cell_type": "markdown",
   "id": "2c80631a-3c23-4717-8b49-1aa4e0b3e9bc",
   "metadata": {},
   "source": [
    "C:\\bacon\\eggs is the dir name, while spam.txt is the base name."
   ]
  },
  {
   "cell_type": "markdown",
   "id": "559a4154-9cb0-42b5-8524-5189562af985",
   "metadata": {},
   "source": [
    "# 6. What are the three “mode” arguments that can be passed to the open() function?"
   ]
  },
  {
   "cell_type": "markdown",
   "id": "c154a10b-8ea6-4736-b9c6-b836564166cc",
   "metadata": {},
   "source": [
    "The three modes are 'r' for read mode, 'w' for write mode, 'a' for append mode."
   ]
  },
  {
   "cell_type": "markdown",
   "id": "f81dd8dc-92c2-49e4-9159-ff566fba7413",
   "metadata": {},
   "source": [
    "# 7. What happens if an existing file is opened in write mode?"
   ]
  },
  {
   "cell_type": "markdown",
   "id": "4cde5e75-939f-45b6-acb8-43ed472de350",
   "metadata": {},
   "source": [
    "If an existing file is opened in write mode it will overwrites the existing file."
   ]
  },
  {
   "cell_type": "markdown",
   "id": "d58a5f8b-6f72-4c37-8b6c-6134e5a78c4e",
   "metadata": {},
   "source": [
    "# 8. How do you tell the difference between read() and readlines()?"
   ]
  },
  {
   "cell_type": "markdown",
   "id": "c3f60c7d-1698-4cb1-8fba-521f2feeb034",
   "metadata": {},
   "source": [
    "read() : read() method used for to read the entire text at a time present in the file \n",
    "\n",
    "readlines() : readlines() method is used for to read the line by line text present in file. "
   ]
  },
  {
   "cell_type": "markdown",
   "id": "651547e5-6fcf-4943-8f83-a83295be4513",
   "metadata": {},
   "source": [
    "# 9. What data structure does a shelf value resemble?"
   ]
  },
  {
   "cell_type": "markdown",
   "id": "3eee937b-5664-457f-8360-da827cc6d348",
   "metadata": {},
   "source": [
    "A shelf value resembles a dictionary value, it has key and values, along with keys() and values() methods."
   ]
  },
  {
   "cell_type": "code",
   "execution_count": null,
   "id": "2df50862-40da-437c-acec-f7db3f696998",
   "metadata": {},
   "outputs": [],
   "source": []
  }
 ],
 "metadata": {
  "kernelspec": {
   "display_name": "Python 3 (ipykernel)",
   "language": "python",
   "name": "python3"
  },
  "language_info": {
   "codemirror_mode": {
    "name": "ipython",
    "version": 3
   },
   "file_extension": ".py",
   "mimetype": "text/x-python",
   "name": "python",
   "nbconvert_exporter": "python",
   "pygments_lexer": "ipython3",
   "version": "3.10.6"
  }
 },
 "nbformat": 4,
 "nbformat_minor": 5
}
