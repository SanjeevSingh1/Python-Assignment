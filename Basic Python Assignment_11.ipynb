{
 "cells": [
  {
   "cell_type": "markdown",
   "id": "94e5c46d",
   "metadata": {},
   "source": [
    "# 1. Create an assert statement that throws an AssertionError if the variable spam is a negative integer.\n"
   ]
  },
  {
   "cell_type": "code",
   "execution_count": 3,
   "id": "840f4362",
   "metadata": {},
   "outputs": [
    {
     "ename": "AssertionError",
     "evalue": "Variable Spam should not be a -ve number",
     "output_type": "error",
     "traceback": [
      "\u001b[1;31m---------------------------------------------------------------------------\u001b[0m",
      "\u001b[1;31mAssertionError\u001b[0m                            Traceback (most recent call last)",
      "Cell \u001b[1;32mIn[3], line 2\u001b[0m\n\u001b[0;32m      1\u001b[0m spam \u001b[38;5;241m=\u001b[39m \u001b[38;5;241m-\u001b[39m\u001b[38;5;241m22\u001b[39m\n\u001b[1;32m----> 2\u001b[0m \u001b[38;5;28;01massert\u001b[39;00m spam \u001b[38;5;241m>\u001b[39m\u001b[38;5;241m=\u001b[39m\u001b[38;5;241m0\u001b[39m, \u001b[38;5;124m'\u001b[39m\u001b[38;5;124mVariable Spam should not be a -ve number\u001b[39m\u001b[38;5;124m'\u001b[39m\n",
      "\u001b[1;31mAssertionError\u001b[0m: Variable Spam should not be a -ve number"
     ]
    }
   ],
   "source": [
    "spam = -22\n",
    "assert spam >=0, 'Variable Spam should not be a -ve number'"
   ]
  },
  {
   "cell_type": "markdown",
   "id": "6f72f618",
   "metadata": {},
   "source": [
    "# 2. Write an assert statement that triggers an AssertionError if the variables eggs and bacon contain strings that are the same as each other, even if their cases are different (that is, &#39;hello&#39; and &#39;hello&#39; are considered the same, and &#39;goodbye&#39; and &#39;GOODbye&#39; are also considered the same).\n"
   ]
  },
  {
   "cell_type": "code",
   "execution_count": 4,
   "id": "b45683e7",
   "metadata": {},
   "outputs": [],
   "source": [
    "def raise_assert(egg,bacon):\n",
    "    egg = egg.upper()\n",
    "    bacon = bacon.upper()\n",
    "    assert not(egg == bacon), 'Eggs/Bacon should not be same, which are same now'"
   ]
  },
  {
   "cell_type": "code",
   "execution_count": 5,
   "id": "e6639db2",
   "metadata": {},
   "outputs": [
    {
     "ename": "AssertionError",
     "evalue": "Eggs/Bacon should not be same, which are same now",
     "output_type": "error",
     "traceback": [
      "\u001b[1;31m---------------------------------------------------------------------------\u001b[0m",
      "\u001b[1;31mAssertionError\u001b[0m                            Traceback (most recent call last)",
      "Cell \u001b[1;32mIn[5], line 1\u001b[0m\n\u001b[1;32m----> 1\u001b[0m raise_assert(\u001b[38;5;124m'\u001b[39m\u001b[38;5;124mhello\u001b[39m\u001b[38;5;124m'\u001b[39m,\u001b[38;5;124m'\u001b[39m\u001b[38;5;124mHELLO\u001b[39m\u001b[38;5;124m'\u001b[39m)\n",
      "Cell \u001b[1;32mIn[4], line 4\u001b[0m, in \u001b[0;36mraise_assert\u001b[1;34m(egg, bacon)\u001b[0m\n\u001b[0;32m      2\u001b[0m egg \u001b[38;5;241m=\u001b[39m egg\u001b[38;5;241m.\u001b[39mupper()\n\u001b[0;32m      3\u001b[0m bacon \u001b[38;5;241m=\u001b[39m bacon\u001b[38;5;241m.\u001b[39mupper()\n\u001b[1;32m----> 4\u001b[0m \u001b[38;5;28;01massert\u001b[39;00m \u001b[38;5;129;01mnot\u001b[39;00m(egg \u001b[38;5;241m==\u001b[39m bacon), \u001b[38;5;124m'\u001b[39m\u001b[38;5;124mEggs/Bacon should not be same, which are same now\u001b[39m\u001b[38;5;124m'\u001b[39m\n",
      "\u001b[1;31mAssertionError\u001b[0m: Eggs/Bacon should not be same, which are same now"
     ]
    }
   ],
   "source": [
    "raise_assert('hello','HELLO')"
   ]
  },
  {
   "cell_type": "markdown",
   "id": "f83c30bc",
   "metadata": {},
   "source": [
    "# 3. Create an assert statement that throws an AssertionError every time.\n"
   ]
  },
  {
   "cell_type": "code",
   "execution_count": 6,
   "id": "84833d37",
   "metadata": {},
   "outputs": [
    {
     "ename": "AssertionError",
     "evalue": "Always Shows Assertion Error",
     "output_type": "error",
     "traceback": [
      "\u001b[1;31m---------------------------------------------------------------------------\u001b[0m",
      "\u001b[1;31mAssertionError\u001b[0m                            Traceback (most recent call last)",
      "Cell \u001b[1;32mIn[6], line 3\u001b[0m\n\u001b[0;32m      1\u001b[0m \u001b[38;5;28;01mdef\u001b[39;00m \u001b[38;5;21massert_always\u001b[39m():\n\u001b[0;32m      2\u001b[0m     \u001b[38;5;28;01massert\u001b[39;00m \u001b[38;5;28;01mFalse\u001b[39;00m, \u001b[38;5;124m'\u001b[39m\u001b[38;5;124mAlways Shows Assertion Error\u001b[39m\u001b[38;5;124m'\u001b[39m\n\u001b[1;32m----> 3\u001b[0m assert_always()\n",
      "Cell \u001b[1;32mIn[6], line 2\u001b[0m, in \u001b[0;36massert_always\u001b[1;34m()\u001b[0m\n\u001b[0;32m      1\u001b[0m \u001b[38;5;28;01mdef\u001b[39;00m \u001b[38;5;21massert_always\u001b[39m():\n\u001b[1;32m----> 2\u001b[0m     \u001b[38;5;28;01massert\u001b[39;00m \u001b[38;5;28;01mFalse\u001b[39;00m, \u001b[38;5;124m'\u001b[39m\u001b[38;5;124mAlways Shows Assertion Error\u001b[39m\u001b[38;5;124m'\u001b[39m\n",
      "\u001b[1;31mAssertionError\u001b[0m: Always Shows Assertion Error"
     ]
    }
   ],
   "source": [
    "def assert_always():\n",
    "    assert False, 'Always Shows Assertion Error'\n",
    "assert_always()"
   ]
  },
  {
   "cell_type": "markdown",
   "id": "4cc96b61",
   "metadata": {},
   "source": [
    "# 4. What are the two lines that must be present in your software in order to call logging.debug()?\n"
   ]
  },
  {
   "cell_type": "code",
   "execution_count": 7,
   "id": "4003c8a6",
   "metadata": {},
   "outputs": [],
   "source": [
    "import logging\n",
    "logging.basicConfig(filename = 'application_log.txt',level=logging.DEBUG, format=' %(asctime)s - %(levelname)s - %(message)s')"
   ]
  },
  {
   "cell_type": "markdown",
   "id": "88e393e8",
   "metadata": {},
   "source": [
    "# 5. What are the two lines that your program must have in order to have logging.debug() send a logging message to a file named programLog.txt?\n"
   ]
  },
  {
   "cell_type": "code",
   "execution_count": 12,
   "id": "6bd7dde5",
   "metadata": {},
   "outputs": [],
   "source": [
    "import logging\n",
    "logging.basicConfig(filename = 'application_log.txt',level=logging.DEBUG, format=' %(asctime)s - %(levelname)s - %(message)s')\n",
    "logging.debug(\"Data Inserted Successfully\")\n",
    "logging.debug('Connection Closed Successfully')"
   ]
  },
  {
   "cell_type": "code",
   "execution_count": 13,
   "id": "fcc87224",
   "metadata": {},
   "outputs": [
    {
     "name": "stdout",
     "output_type": "stream",
     "text": [
      " 2024-05-17 02:26:38,883 - DEBUG - Data Inserted Successfully\n",
      "\n",
      " 2024-05-17 02:26:38,883 - DEBUG - Connection Closed Successfully\n",
      "\n",
      " 2024-05-17 02:26:41,380 - DEBUG - Data Inserted Successfully\n",
      "\n",
      " 2024-05-17 02:26:41,380 - DEBUG - Connection Closed Successfully\n",
      "\n",
      " 2024-05-17 02:26:42,707 - DEBUG - Data Inserted Successfully\n",
      "\n",
      " 2024-05-17 02:26:42,708 - DEBUG - Connection Closed Successfully\n",
      "\n",
      " 2024-05-17 02:26:44,059 - DEBUG - Data Inserted Successfully\n",
      "\n",
      " 2024-05-17 02:26:44,060 - DEBUG - Connection Closed Successfully\n",
      "\n",
      " 2024-05-17 02:26:52,747 - DEBUG - Data Inserted Successfully\n",
      "\n",
      " 2024-05-17 02:26:52,748 - DEBUG - Connection Closed Successfully\n",
      "\n",
      " 2024-05-17 02:26:53,931 - DEBUG - Data Inserted Successfully\n",
      "\n",
      " 2024-05-17 02:26:53,932 - DEBUG - Connection Closed Successfully\n",
      "\n",
      " 2024-05-17 02:26:56,013 - DEBUG - Data Inserted Successfully\n",
      "\n",
      " 2024-05-17 02:26:56,013 - DEBUG - Connection Closed Successfully\n",
      "\n",
      " 2024-05-17 02:26:57,523 - DEBUG - Data Inserted Successfully\n",
      "\n",
      " 2024-05-17 02:26:57,523 - DEBUG - Connection Closed Successfully\n",
      "\n",
      " 2024-05-17 02:28:14,268 - DEBUG - Data Inserted Successfully\n",
      "\n",
      " 2024-05-17 02:28:14,268 - DEBUG - Connection Closed Successfully\n",
      "\n",
      " 2024-05-17 02:28:48,987 - DEBUG - Data Inserted Successfully\n",
      "\n",
      " 2024-05-17 02:28:48,988 - DEBUG - Connection Closed Successfully\n",
      "\n",
      " 2024-05-17 02:50:06,096 - DEBUG - Data Inserted Successfully\n",
      "\n",
      " 2024-05-17 02:50:06,097 - DEBUG - Connection Closed Successfully\n",
      "\n",
      " 2024-05-17 02:50:34,852 - DEBUG - Data Inserted Successfully\n",
      "\n",
      " 2024-05-17 02:50:34,852 - DEBUG - Connection Closed Successfully\n",
      "\n",
      " 2024-05-17 02:53:09,883 - DEBUG - Data Inserted Successfully\n",
      "\n",
      " 2024-05-17 02:53:09,883 - DEBUG - Connection Closed Successfully\n",
      "\n"
     ]
    }
   ],
   "source": [
    "file = open(\"./application_log.txt\",\"r\")\n",
    "for record in file.readlines():\n",
    "    print(record)"
   ]
  },
  {
   "cell_type": "markdown",
   "id": "8ec26de8",
   "metadata": {},
   "source": [
    "# 6. What are the five levels of logging?\n"
   ]
  },
  {
   "cell_type": "markdown",
   "id": "9b63cbe7",
   "metadata": {},
   "source": [
    "The Five levels of Logging provided by python's logging module are CRITICAL(50), ERROR(40), WARNING(30), INFO(20, DEBUG(10), NOTSET(0)"
   ]
  },
  {
   "cell_type": "markdown",
   "id": "57ade662",
   "metadata": {},
   "source": [
    "# 7. What line of code would you add to your software to disable all logging messages?\n"
   ]
  },
  {
   "cell_type": "code",
   "execution_count": 10,
   "id": "4171794e",
   "metadata": {},
   "outputs": [],
   "source": [
    "logging.disable = True"
   ]
  },
  {
   "cell_type": "markdown",
   "id": "835351d1",
   "metadata": {},
   "source": [
    "# 8.Why is using logging messages better than using print() to display the same message?\n"
   ]
  },
  {
   "cell_type": "markdown",
   "id": "fa9736ab",
   "metadata": {},
   "source": [
    " Post devlopment of your code, you can disable logging messages without removing the logging function, whereas you need to manually remove print() statements, which is tedious activity. and also print is used when you want to display any particular message or help whereas logging is used to record all events like error, info, debug messages, timestamps."
   ]
  },
  {
   "cell_type": "markdown",
   "id": "53c03f29",
   "metadata": {},
   "source": [
    "# 9. What are the differences between the Step Over, Step In, and Step Out buttons in the debugger?\n"
   ]
  },
  {
   "cell_type": "markdown",
   "id": "d0935be7",
   "metadata": {},
   "source": [
    "The Differences between Step Over, Step In, Step Out buttons in debugger are:\n",
    "\n",
    "1. Step in - Step In button will cause the debugger to execute the next line of code and then pause again.\n",
    "2. Step Over - Step Over button will execute the next line of code, similar to the Step In button. However, if the next line of code is a function call, the Step Over button will “step over” the code in the function. The function’s code will be executed at full speed, and the debugger will pause as soon as the function call returns.\n",
    "3. Step out - Step Out button will cause the debugger to execute lines of code at full speed until it returns from the current function."
   ]
  },
  {
   "cell_type": "markdown",
   "id": "08558898",
   "metadata": {},
   "source": [
    "# 10.After you click Continue, when will the debugger stop ?\n"
   ]
  },
  {
   "cell_type": "markdown",
   "id": "6ef4402d",
   "metadata": {},
   "source": [
    "This will cause the program to continue running normally, without pausing for debugging untill it terminates or reaches a breakpoint."
   ]
  },
  {
   "cell_type": "markdown",
   "id": "ecd39b71",
   "metadata": {},
   "source": [
    "# 11. What is the concept of a breakpoint?"
   ]
  },
  {
   "cell_type": "markdown",
   "id": "59b24511",
   "metadata": {},
   "source": [
    " Breakpoint is a setting on a line of code that causes the debugger to pause when the program execution reaches the line"
   ]
  },
  {
   "cell_type": "code",
   "execution_count": null,
   "id": "8d7d7413",
   "metadata": {},
   "outputs": [],
   "source": []
  }
 ],
 "metadata": {
  "kernelspec": {
   "display_name": "Python 3 (ipykernel)",
   "language": "python",
   "name": "python3"
  },
  "language_info": {
   "codemirror_mode": {
    "name": "ipython",
    "version": 3
   },
   "file_extension": ".py",
   "mimetype": "text/x-python",
   "name": "python",
   "nbconvert_exporter": "python",
   "pygments_lexer": "ipython3",
   "version": "3.11.5"
  }
 },
 "nbformat": 4,
 "nbformat_minor": 5
}
