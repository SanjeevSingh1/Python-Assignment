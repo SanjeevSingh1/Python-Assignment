{
 "cells": [
  {
   "cell_type": "markdown",
   "id": "46016309-02e5-43a6-90f8-c1c3fd0686a6",
   "metadata": {},
   "source": [
    "# 1. Add the current date to the text file today.txt as a string."
   ]
  },
  {
   "cell_type": "code",
   "execution_count": 6,
   "id": "8d77f2bf-e8dc-4718-8e49-bc7eb6b23652",
   "metadata": {},
   "outputs": [],
   "source": [
    "from datetime import date\n",
    "\n",
    "today = date.today()\n",
    "cur_date = today.isoformat()\n",
    "\n",
    "with open('today.txt','w') as file:\n",
    "    file.write(cur_date)"
   ]
  },
  {
   "cell_type": "markdown",
   "id": "56470d46-c217-4c47-b99c-31729a101581",
   "metadata": {},
   "source": [
    "# 2. Read the text file today.txt into the string today_string"
   ]
  },
  {
   "cell_type": "code",
   "execution_count": 7,
   "id": "12b62d19-530c-488f-8f90-958c4fb1de58",
   "metadata": {},
   "outputs": [
    {
     "data": {
      "text/plain": [
       "'2023-08-11'"
      ]
     },
     "execution_count": 7,
     "metadata": {},
     "output_type": "execute_result"
    }
   ],
   "source": [
    "with open('today.txt','r') as file:\n",
    "    today_string = file.read()\n",
    "    \n",
    "today_string"
   ]
  },
  {
   "cell_type": "markdown",
   "id": "3428edea-8394-4488-9fe4-00353737afda",
   "metadata": {},
   "source": [
    "# 3. Parse the date from today_string."
   ]
  },
  {
   "cell_type": "code",
   "execution_count": 8,
   "id": "731b989c-b6da-4e37-82be-bd1f18d06c5a",
   "metadata": {},
   "outputs": [
    {
     "data": {
      "text/plain": [
       "datetime.datetime(2023, 8, 11, 0, 0)"
      ]
     },
     "execution_count": 8,
     "metadata": {},
     "output_type": "execute_result"
    }
   ],
   "source": [
    "from datetime import datetime\n",
    "\n",
    "frmt = '%Y-%m-%d'\n",
    "datetime.strptime(today_string,frmt)"
   ]
  },
  {
   "cell_type": "markdown",
   "id": "359d116e-ebae-44c2-9720-96b1c962fb1e",
   "metadata": {},
   "source": [
    "# 4. List the files in your current directory"
   ]
  },
  {
   "cell_type": "code",
   "execution_count": 9,
   "id": "07e7c3ca-ade4-43ff-a47e-f17dd3504b98",
   "metadata": {},
   "outputs": [
    {
     "data": {
      "text/plain": [
       "['Python Assignment_17.ipynb',\n",
       " 'README.md',\n",
       " 'book.db',\n",
       " 'text1.csv',\n",
       " 'test.txt',\n",
       " 'sample-code.ipynb',\n",
       " 'xyz.csv',\n",
       " 'Python Assignment_21.ipynb',\n",
       " 'Python Assignment_13.ipynb',\n",
       " 'Python Assignment_18.ipynb',\n",
       " 'Python Assignment_10.ipynb',\n",
       " '.git',\n",
       " 'book.csv',\n",
       " 'Python Assignment_15.ipynb',\n",
       " 'Python Assignment_20.ipynb',\n",
       " 'Assignment_9.ipynb',\n",
       " 'Python Assignment_3.ipynb',\n",
       " 'Python Assignment_16.ipynb',\n",
       " 'demon.jpg',\n",
       " 'Python_Assignment_8.ipynb',\n",
       " 'Python Assignment_14.ipynb',\n",
       " 'books.db',\n",
       " '.ipynb_checkpoints',\n",
       " 'Python Assignment_19.ipynb',\n",
       " 'today.txt',\n",
       " 'text.txt',\n",
       " 'test2.txt']"
      ]
     },
     "execution_count": 9,
     "metadata": {},
     "output_type": "execute_result"
    }
   ],
   "source": [
    "import os\n",
    "\n",
    "os.listdir('.')"
   ]
  },
  {
   "cell_type": "markdown",
   "id": "60203b1f-adcd-4291-af94-9258c268afc5",
   "metadata": {},
   "source": [
    "# 5. Create a list of all of the files in your parent directory (minimum five files should be available)."
   ]
  },
  {
   "cell_type": "code",
   "execution_count": null,
   "id": "5e5339ae-9b72-43df-9c6d-7defd31efd2b",
   "metadata": {},
   "outputs": [],
   "source": []
  },
  {
   "cell_type": "markdown",
   "id": "3111e4ed-d075-4e62-9072-d76395e6427b",
   "metadata": {},
   "source": [
    "# 6. Use multiprocessing to create three separate processes. Make each one wait a random number of seconds between one and five, print the current time, and then exit."
   ]
  },
  {
   "cell_type": "code",
   "execution_count": 12,
   "id": "54353f7a-535a-4216-9816-bf9c0b4b0f11",
   "metadata": {},
   "outputs": [
    {
     "name": "stdout",
     "output_type": "stream",
     "text": [
      "wait 0.3936854025570071 seconds, time is 2023-08-11 16:41:21.197233\n",
      "wait 0.6886931926526327 seconds, time is 2023-08-11 16:41:21.513517wait \n",
      "0.8555694769190418wait  seconds, time is0.937186367760464  2023-08-11 16:41:21.667529seconds, time is\n",
      " 2023-08-11 16:41:21.754790\n"
     ]
    }
   ],
   "source": [
    "import multiprocessing\n",
    "\n",
    "def printsec(seconds):\n",
    "    from datetime import datetime\n",
    "    from time import sleep\n",
    "    sleep(seconds)\n",
    "    print('wait', seconds, 'seconds, time is', datetime.utcnow())\n",
    "    \n",
    "if __name__ == '__main__':\n",
    "    import random    \n",
    "    for n in range(4):\n",
    "        seconds = random.random()\n",
    "        proc = multiprocessing.Process(target=printsec, args=(seconds,))\n",
    "        proc.start()"
   ]
  },
  {
   "cell_type": "markdown",
   "id": "1d5e68e6-b3ac-4d9b-8592-e0096280bc6f",
   "metadata": {},
   "source": [
    "# 7. Create a date object of your day of birth."
   ]
  },
  {
   "cell_type": "code",
   "execution_count": 13,
   "id": "0707f535-945d-482e-b214-272a8e36739a",
   "metadata": {},
   "outputs": [
    {
     "data": {
      "text/plain": [
       "datetime.date(1999, 6, 1)"
      ]
     },
     "execution_count": 13,
     "metadata": {},
     "output_type": "execute_result"
    }
   ],
   "source": [
    "dob = date(1999,6,1)\n",
    "\n",
    "dob"
   ]
  },
  {
   "cell_type": "markdown",
   "id": "970db216-9d6f-486b-972f-21b2f415b59b",
   "metadata": {},
   "source": [
    "# 8. What day of the week was your day of birth?"
   ]
  },
  {
   "cell_type": "code",
   "execution_count": 15,
   "id": "a565859f-7d68-424e-b062-212fc5287151",
   "metadata": {},
   "outputs": [
    {
     "data": {
      "text/plain": [
       "1"
      ]
     },
     "execution_count": 15,
     "metadata": {},
     "output_type": "execute_result"
    }
   ],
   "source": [
    "dob.weekday()"
   ]
  },
  {
   "cell_type": "markdown",
   "id": "b2a91606-7ce8-4a0f-ac80-7e3ff06c321a",
   "metadata": {},
   "source": [
    "# 9. When will you be (or when were you) 10,000 days old?"
   ]
  },
  {
   "cell_type": "code",
   "execution_count": 14,
   "id": "ef21bbc4-5007-4e8a-acad-92be4d7fc880",
   "metadata": {},
   "outputs": [],
   "source": [
    "from datetime import timedelta\n",
    "\n",
    "day10000 = dob+timedelta(days=10000)"
   ]
  },
  {
   "cell_type": "code",
   "execution_count": null,
   "id": "ba542024-f2cf-451a-b303-b6db0a3eec84",
   "metadata": {},
   "outputs": [],
   "source": []
  }
 ],
 "metadata": {
  "kernelspec": {
   "display_name": "Python 3 (ipykernel)",
   "language": "python",
   "name": "python3"
  },
  "language_info": {
   "codemirror_mode": {
    "name": "ipython",
    "version": 3
   },
   "file_extension": ".py",
   "mimetype": "text/x-python",
   "name": "python",
   "nbconvert_exporter": "python",
   "pygments_lexer": "ipython3",
   "version": "3.10.6"
  }
 },
 "nbformat": 4,
 "nbformat_minor": 5
}
