{
 "cells": [
  {
   "cell_type": "markdown",
   "id": "cfa19ea6-f120-4648-8557-dfb70fff88c4",
   "metadata": {},
   "source": [
    "# 1. What does RGBA stand for?"
   ]
  },
  {
   "cell_type": "markdown",
   "id": "d8cf0306-faf4-4ac9-8f02-effb0d8bba9e",
   "metadata": {},
   "source": [
    "RGBA stand for Red - Green - Blue - Alpha "
   ]
  },
  {
   "cell_type": "markdown",
   "id": "20b0e263-a5aa-4373-b0b3-a16e89dc9744",
   "metadata": {},
   "source": [
    "# 2. From the Pillow module, how do you get the RGBA value of any images?"
   ]
  },
  {
   "cell_type": "code",
   "execution_count": 5,
   "id": "b657983a-7dd0-4c77-8f21-94f672f99249",
   "metadata": {},
   "outputs": [
    {
     "data": {
      "text/plain": [
       "(255, 0, 0, 255)"
      ]
     },
     "execution_count": 5,
     "metadata": {},
     "output_type": "execute_result"
    }
   ],
   "source": [
    "from PIL import ImageColor\n",
    "\n",
    "ImageColor.getcolor('green','RGBA')\n",
    "ImageColor.getcolor('red','RGBA')"
   ]
  },
  {
   "cell_type": "markdown",
   "id": "9c6ce9d9-a962-4692-8ae2-ecb68cfad925",
   "metadata": {},
   "source": [
    "# 3. What is a box tuple, and how does it work?"
   ]
  },
  {
   "cell_type": "markdown",
   "id": "7246d00e-9abf-4ac3-9b88-efb3f52fc937",
   "metadata": {},
   "source": [
    "A box tuple is a tuple value of four integers: the left edge x-coordinate, the top edge y-coordinate, the width, and the height, respectively"
   ]
  },
  {
   "cell_type": "markdown",
   "id": "8f88807f-4808-4f68-9165-608219047007",
   "metadata": {},
   "source": [
    "# 4. Use your image and load in notebook then, How can you find out the width and height of an Image object?"
   ]
  },
  {
   "cell_type": "code",
   "execution_count": 8,
   "id": "91b43bd5-59d0-4848-9b8e-c7621257a1c9",
   "metadata": {},
   "outputs": [
    {
     "name": "stdout",
     "output_type": "stream",
     "text": [
      "The height of the image is:  643\n",
      "The width of the image is:  900\n"
     ]
    }
   ],
   "source": [
    "from PIL import Image\n",
    "\n",
    "File = 'demon.jpg'\n",
    "img = Image.open(File)\n",
    "\n",
    "# width = img.width\n",
    "# Height = img.height\n",
    "\n",
    "print(\"The height of the image is: \", Height)\n",
    "print(\"The width of the image is: \", width)"
   ]
  },
  {
   "cell_type": "markdown",
   "id": "e841b662-1cce-491e-a65c-6fe76072fa77",
   "metadata": {},
   "source": [
    "# 5. What method would you call to get Image object for a 100×100 image, excluding the lower-left quarter of it?"
   ]
  },
  {
   "cell_type": "markdown",
   "id": "9a9dddaa-dc90-4129-96bb-537e7341c1c0",
   "metadata": {},
   "source": [
    "ImageObject.crop((0,50,50,50))"
   ]
  },
  {
   "cell_type": "markdown",
   "id": "a5b86d48-554d-4219-9706-680bb6ac417c",
   "metadata": {},
   "source": [
    "# 6. After making changes to an Image object, how could you save it as an image file?"
   ]
  },
  {
   "cell_type": "markdown",
   "id": "8eb047c3-2bfb-4fec-9dcd-c3585f100812",
   "metadata": {},
   "source": [
    "By calling the imageObj.save('new_filename.pnj')"
   ]
  },
  {
   "cell_type": "markdown",
   "id": "ed2922a2-bf60-4356-88fc-18babbe90022",
   "metadata": {},
   "source": [
    "# 7. What module contains Pillow’s shape-drawing code?"
   ]
  },
  {
   "cell_type": "markdown",
   "id": "8474ca71-4c2c-477c-a8b7-3a5d6bcc0c17",
   "metadata": {},
   "source": [
    "The ImageDraw module contains Pillow's shape-drawing code to draw on images."
   ]
  },
  {
   "cell_type": "markdown",
   "id": "392d1c29-feda-4831-8e64-74a275378075",
   "metadata": {},
   "source": [
    "# 8. Image objects do not have drawing methods. What kind of object does? How do you get this kind of object?"
   ]
  },
  {
   "cell_type": "markdown",
   "id": "3005fb5d-fab1-4d44-b907-12a84c87d3f2",
   "metadata": {},
   "source": [
    "ImageDraw objects have shape-drawing methods such as point(),line(), or rectangle(). They are returned by passing the Image object to the ImageDraw.Draw() function."
   ]
  },
  {
   "cell_type": "code",
   "execution_count": null,
   "id": "614b5c03-20c1-4adc-a281-5e4d78927023",
   "metadata": {},
   "outputs": [],
   "source": []
  }
 ],
 "metadata": {
  "kernelspec": {
   "display_name": "Python 3 (ipykernel)",
   "language": "python",
   "name": "python3"
  },
  "language_info": {
   "codemirror_mode": {
    "name": "ipython",
    "version": 3
   },
   "file_extension": ".py",
   "mimetype": "text/x-python",
   "name": "python",
   "nbconvert_exporter": "python",
   "pygments_lexer": "ipython3",
   "version": "3.10.6"
  }
 },
 "nbformat": 4,
 "nbformat_minor": 5
}
