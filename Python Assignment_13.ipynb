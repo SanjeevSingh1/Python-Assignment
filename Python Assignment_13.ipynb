{
 "cells": [
  {
   "cell_type": "markdown",
   "id": "3c3b9ff9-b6f2-4ea7-adc3-25a51ffcab14",
   "metadata": {},
   "source": [
    "# 1. What advantages do Excel spreadsheets have over CSV spreadsheets?"
   ]
  },
  {
   "cell_type": "markdown",
   "id": "f53058c3-e1d1-42c7-b5bd-f958a98d75e1",
   "metadata": {},
   "source": [
    "--> Excel can connect to external data sources to fetch data.\n",
    "\n",
    "--> Excel allows for Review of Data with detailed tracking and commenting feature.\n",
    "\n",
    "--> It is easier for the end user to read large files.\n",
    "\n",
    "--> Apart from text, data can also be stored in form of charts and graphs."
   ]
  },
  {
   "cell_type": "markdown",
   "id": "ceadb32f-bdda-4905-86b1-5daea6d7e94f",
   "metadata": {},
   "source": [
    "# 2.What do you pass to csv.reader() and csv.writer() to create reader and writer objects?"
   ]
  },
  {
   "cell_type": "code",
   "execution_count": 13,
   "id": "40395918-a155-406d-9353-1a43c4bb5517",
   "metadata": {},
   "outputs": [
    {
     "data": {
      "text/plain": [
       "[['fbFBfIFJDAFBFJABJGkfghmskgkzbkzndf'],\n",
       " ['zkzfjgnzljfnzdhfahgonz'],\n",
       " ['znzbogkxlkfbcjfdjgkjd'],\n",
       " ['kjnkcvkjhlx']]"
      ]
     },
     "execution_count": 13,
     "metadata": {},
     "output_type": "execute_result"
    }
   ],
   "source": [
    "import csv\n",
    "file = open('text1.csv')\n",
    "filereader = csv.reader(file)\n",
    "list(filereader)"
   ]
  },
  {
   "cell_type": "code",
   "execution_count": 9,
   "id": "34e89a48-2665-4f40-8beb-9f63ad834e94",
   "metadata": {},
   "outputs": [],
   "source": [
    "f=open('text1.csv','r+')"
   ]
  },
  {
   "cell_type": "code",
   "execution_count": 10,
   "id": "903414fe-c337-4657-b3ff-c6ad349be15d",
   "metadata": {},
   "outputs": [
    {
     "data": {
      "text/plain": [
       "'fbFBfIFJDAFBFJABJGkfghmskgkzbkzndf\\nzkzfjgnzljfnzdhfahgonz\\nznzbogkxlkfbcjfdjgkjd\\nkjnkcvkjhlx'"
      ]
     },
     "execution_count": 10,
     "metadata": {},
     "output_type": "execute_result"
    }
   ],
   "source": [
    "f.read()"
   ]
  },
  {
   "cell_type": "markdown",
   "id": "970fd926-3fa6-4dda-93ff-717baeb25593",
   "metadata": {},
   "source": [
    "# 3. What modes do File objects for reader and writer objects need to be opened in?"
   ]
  },
  {
   "cell_type": "markdown",
   "id": "c8fda1a0-1f3b-488a-9ee8-a02ea9c813d0",
   "metadata": {},
   "source": [
    "--> r mode used only for reading file objects. while, r+ mode used for to open a file for the both reading and writing.\n",
    "\n",
    "--> w mode used only for writing. check for existing file only. while, w+ used for both writing and reading operations, check for existing file, if its present overwrites the file and if it is not present then it will create one.  "
   ]
  },
  {
   "cell_type": "markdown",
   "id": "5a3f495b-ac59-4340-becb-5d1151be20c2",
   "metadata": {},
   "source": [
    "# 4. What method takes a list argument and writes it to a CSV file?"
   ]
  },
  {
   "cell_type": "code",
   "execution_count": 16,
   "id": "023b5d87-a8a6-4055-810e-48c455f765ce",
   "metadata": {},
   "outputs": [
    {
     "data": {
      "text/plain": [
       "13"
      ]
     },
     "execution_count": 16,
     "metadata": {},
     "output_type": "execute_result"
    }
   ],
   "source": [
    "File = open('xyz.csv','w')\n",
    "File_writer = csv.writer(File)\n",
    "File_writer.writerow(['abc','goat','sk'])"
   ]
  },
  {
   "cell_type": "markdown",
   "id": "f1305d54-e966-4ad3-9078-3c16c026edcf",
   "metadata": {},
   "source": [
    "# 5. What do the keyword arguments delimiter and line terminator do?"
   ]
  },
  {
   "cell_type": "markdown",
   "id": "1ffd7363-bf70-4bf2-ac95-df4bb31e6399",
   "metadata": {},
   "source": [
    "The delimiter argument changes the string used to seperate cells in a row.\n",
    "\n",
    "The line delimiter argument changes the string used to seperate rows."
   ]
  },
  {
   "cell_type": "markdown",
   "id": "88a4eada-100f-48cf-bbea-d4eb6166ea03",
   "metadata": {},
   "source": [
    "# 6. What function takes a string of JSON data and returns a Python data structure?"
   ]
  },
  {
   "cell_type": "markdown",
   "id": "7e41b561-7193-4658-a052-7a8e5befd82e",
   "metadata": {},
   "source": [
    "json.loads()"
   ]
  },
  {
   "cell_type": "markdown",
   "id": "6edf7cac-7c17-4c79-93a4-77c8a60dbfad",
   "metadata": {},
   "source": [
    "# 7. What function takes a Python data structure and returns a string of JSON data?"
   ]
  },
  {
   "cell_type": "markdown",
   "id": "4e07b245-5902-41f0-baf5-954b79edda0d",
   "metadata": {},
   "source": [
    "json.dumps()"
   ]
  },
  {
   "cell_type": "code",
   "execution_count": null,
   "id": "5278c074-4bb1-4ecb-90b5-dbcf7c0a83ca",
   "metadata": {},
   "outputs": [],
   "source": []
  }
 ],
 "metadata": {
  "kernelspec": {
   "display_name": "Python 3 (ipykernel)",
   "language": "python",
   "name": "python3"
  },
  "language_info": {
   "codemirror_mode": {
    "name": "ipython",
    "version": 3
   },
   "file_extension": ".py",
   "mimetype": "text/x-python",
   "name": "python",
   "nbconvert_exporter": "python",
   "pygments_lexer": "ipython3",
   "version": "3.10.6"
  }
 },
 "nbformat": 4,
 "nbformat_minor": 5
}
