{
 "cells": [
  {
   "cell_type": "markdown",
   "metadata": {},
   "source": [
    "# 1. In the below elements which of them are values or an expression? eg:- values can be integer or string and expressions will be mathematical operators.\n",
    "\n",
    "# * \n",
    "# 'hello',\n",
    "# -87.8 ,\n",
    "# - ,\n",
    "# / ,\n",
    "# + ,\n",
    "# 6,\n"
   ]
  },
  {
   "cell_type": "markdown",
   "metadata": {},
   "source": [
    "\"hello\", -87.8, 6 are the elements which belongs to value categories.\\\\\\\n",
    "And (*) , - , / , + , are the elements which belongs to expression. "
   ]
  },
  {
   "cell_type": "markdown",
   "metadata": {},
   "source": [
    "# 2. What is the difference between string and variable?\n"
   ]
  },
  {
   "cell_type": "markdown",
   "metadata": {},
   "source": [
    "A Variable is a store of information, variable is considered as tag that is tied to some value. Python consider value as object.\n",
    "\n",
    "A string is a type of information which store in a Variable. Any information which are written within single or double quote (\" \" or ' ') are considered as string. It can be any word, sentances, integer value, float, and complex number.\n",
    "e.g, 'Ram', \"23\", '25.5', \"2 + 4j\""
   ]
  },
  {
   "cell_type": "markdown",
   "metadata": {},
   "source": [
    "# 3. Describe three different data types."
   ]
  },
  {
   "cell_type": "markdown",
   "metadata": {},
   "source": [
    "Three different data types are : \n",
    "1. Numeric type \n",
    "2. Sequence type\n",
    "3. bool type\n",
    "\n",
    "1 In Numeric type there are 3 more data type \n",
    "\n",
    "a. Int : int data type represent interger value without any decimal. \\\\\\\n",
    "b. Float : floating point number is a number that contains a decimal point.\\\\\\\n",
    "c. complex : complex data type is a number that is written in a + ib form. where, a,b = real number and i = imaginary number.\n",
    "\n",
    "2 In sequence type there are 3 \n",
    "\n",
    "a. string : a sequence of character/alphabet/number within single or double qoute is called string.\\\\\\\n",
    "b. List : an ordered sequence of items is called lists. Elements of list may belong to different data types. lists are mutable it is always be written is []\\\\\\\n",
    "c. Tuple : it is also an ordered sequence of elements. tuples are immutable and always written within parenthesis().\n",
    "\n",
    "3 Bool data type : the bool data type represent boolean value True or False. Python internally represents True as 1 and False as 0\n"
   ]
  },
  {
   "cell_type": "markdown",
   "metadata": {},
   "source": [
    "# 4. What is an expression made up of? What do all expressions do?"
   ]
  },
  {
   "cell_type": "markdown",
   "metadata": {},
   "source": [
    "An expression is a combination of operators and operands that is interpreted to produce some other value"
   ]
  },
  {
   "cell_type": "markdown",
   "metadata": {},
   "source": [
    "# 5. This assignment statements, like spam = 10. What is the difference between an expression and a statement?"
   ]
  },
  {
   "cell_type": "markdown",
   "metadata": {},
   "source": []
  },
  {
   "cell_type": "markdown",
   "metadata": {},
   "source": [
    "# 6. After running the following code, what does the variable bacon contain?\n",
    "bacon = 22\n",
    "bacon + 1\n"
   ]
  },
  {
   "cell_type": "markdown",
   "metadata": {},
   "source": [
    "the variable bacon contain invalid syntax"
   ]
  },
  {
   "cell_type": "markdown",
   "metadata": {},
   "source": [
    "# 7. What should the values of the following two terms be?\n",
    "'spam' + 'spamspam'\n",
    "'spam' * 3\n"
   ]
  },
  {
   "cell_type": "code",
   "execution_count": 4,
   "metadata": {},
   "outputs": [
    {
     "data": {
      "text/plain": [
       "'spamspamspamspamspamspamspamspamspamspam'"
      ]
     },
     "execution_count": 4,
     "metadata": {},
     "output_type": "execute_result"
    }
   ],
   "source": [
    "'spam' + 'spamspam' 'spam' * 3"
   ]
  },
  {
   "cell_type": "markdown",
   "metadata": {},
   "source": [
    "# 8. Why is eggs a valid variable name while 100 is invalid?"
   ]
  },
  {
   "cell_type": "markdown",
   "metadata": {},
   "source": [
    "Every variable name should starts with alphabets or underscore(_)."
   ]
  },
  {
   "cell_type": "markdown",
   "metadata": {},
   "source": [
    "# 9. What three functions can be used to get the integer, floating-point number, or string version of a value?"
   ]
  },
  {
   "cell_type": "markdown",
   "metadata": {},
   "source": [
    "The int(), float(), and str() functions can be used to get the integer, floating-point number, or string version of a value."
   ]
  },
  {
   "cell_type": "markdown",
   "metadata": {},
   "source": [
    "# 10. Why does this expression cause an error? How can you fix it?\n",
    "'I have eaten ' + 99 + ' burritos.'"
   ]
  },
  {
   "cell_type": "markdown",
   "metadata": {},
   "source": [
    "python can only concatenate str + str not str + int \\\\\\\n",
    "To fix this we have to type cast the int value to str."
   ]
  },
  {
   "cell_type": "code",
   "execution_count": null,
   "metadata": {},
   "outputs": [],
   "source": []
  }
 ],
 "metadata": {
  "kernelspec": {
   "display_name": "Python 3",
   "language": "python",
   "name": "python3"
  },
  "language_info": {
   "codemirror_mode": {
    "name": "ipython",
    "version": 3
   },
   "file_extension": ".py",
   "mimetype": "text/x-python",
   "name": "python",
   "nbconvert_exporter": "python",
   "pygments_lexer": "ipython3",
   "version": "3.8.3"
  }
 },
 "nbformat": 4,
 "nbformat_minor": 4
}
