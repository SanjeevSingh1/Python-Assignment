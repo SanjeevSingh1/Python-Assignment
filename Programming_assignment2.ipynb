{
 "cells": [
  {
   "cell_type": "markdown",
   "metadata": {},
   "source": [
    "# 1.\tWrite a Python program to convert kilometers to miles?"
   ]
  },
  {
   "cell_type": "code",
   "execution_count": 3,
   "metadata": {},
   "outputs": [
    {
     "name": "stdin",
     "output_type": "stream",
     "text": [
      "enter_values_in_kilometer :  2.487\n"
     ]
    },
    {
     "name": "stdout",
     "output_type": "stream",
     "text": [
      "2.487 kilometer is equal to : 1.54534719 miles\n"
     ]
    }
   ],
   "source": [
    "# Taking kilometer input from user\n",
    "\n",
    "kilometer = float(input('enter_values_in_kilometer : '))\n",
    "\n",
    "# 1 kilometer = 0.62137 miles\n",
    "\n",
    "conv_factor = 0.62137\n",
    "\n",
    "miles = kilometer*conv_factor\n",
    "\n",
    "print(f'{kilometer} kilometer is equal to : {miles} miles')"
   ]
  },
  {
   "cell_type": "markdown",
   "metadata": {},
   "source": [
    "# 2. Write a Python program to convert Celsius to Fahrenheit?"
   ]
  },
  {
   "cell_type": "code",
   "execution_count": 1,
   "metadata": {},
   "outputs": [
    {
     "name": "stdin",
     "output_type": "stream",
     "text": [
      "enter value in degree celsius:  1\n"
     ]
    },
    {
     "name": "stdout",
     "output_type": "stream",
     "text": [
      "1.0 degree_celsius is equal to: 33.8 degree_fahrenheit\n"
     ]
    }
   ],
   "source": [
    "degree_celsius = float(input('enter value in degree celsius: '))\n",
    "\n",
    "# Standard formula to convert celsius to fahrenheit\n",
    "degree_fahrenheit = (degree_celsius *1.8) + 32\n",
    "\n",
    "print(f'{degree_celsius} degree_celsius is equal to: {degree_fahrenheit} degree_fahrenheit')"
   ]
  },
  {
   "cell_type": "markdown",
   "metadata": {},
   "source": [
    "# 3.\tWrite a Python program to display calendar?"
   ]
  },
  {
   "cell_type": "code",
   "execution_count": 2,
   "metadata": {},
   "outputs": [
    {
     "name": "stdin",
     "output_type": "stream",
     "text": [
      "enter year :  2022\n",
      "enter month :  11\n"
     ]
    },
    {
     "name": "stdout",
     "output_type": "stream",
     "text": [
      "   November 2022\n",
      "Mo Tu We Th Fr Sa Su\n",
      "    1  2  3  4  5  6\n",
      " 7  8  9 10 11 12 13\n",
      "14 15 16 17 18 19 20\n",
      "21 22 23 24 25 26 27\n",
      "28 29 30\n",
      "\n"
     ]
    }
   ],
   "source": [
    "import calendar \n",
    "\n",
    "year = int(input(\"enter year : \"))\n",
    "month = int(input(\"enter month : \"))\n",
    "\n",
    "print(calendar.month(year,month))"
   ]
  },
  {
   "cell_type": "code",
   "execution_count": 5,
   "metadata": {},
   "outputs": [
    {
     "name": "stdin",
     "output_type": "stream",
     "text": [
      "enter year :  2023\n"
     ]
    },
    {
     "name": "stdout",
     "output_type": "stream",
     "text": [
      "                                  2023\n",
      "\n",
      "      January                   February                   March\n",
      "Mo Tu We Th Fr Sa Su      Mo Tu We Th Fr Sa Su      Mo Tu We Th Fr Sa Su\n",
      "                   1             1  2  3  4  5             1  2  3  4  5\n",
      " 2  3  4  5  6  7  8       6  7  8  9 10 11 12       6  7  8  9 10 11 12\n",
      " 9 10 11 12 13 14 15      13 14 15 16 17 18 19      13 14 15 16 17 18 19\n",
      "16 17 18 19 20 21 22      20 21 22 23 24 25 26      20 21 22 23 24 25 26\n",
      "23 24 25 26 27 28 29      27 28                     27 28 29 30 31\n",
      "30 31\n",
      "\n",
      "       April                      May                       June\n",
      "Mo Tu We Th Fr Sa Su      Mo Tu We Th Fr Sa Su      Mo Tu We Th Fr Sa Su\n",
      "                1  2       1  2  3  4  5  6  7                1  2  3  4\n",
      " 3  4  5  6  7  8  9       8  9 10 11 12 13 14       5  6  7  8  9 10 11\n",
      "10 11 12 13 14 15 16      15 16 17 18 19 20 21      12 13 14 15 16 17 18\n",
      "17 18 19 20 21 22 23      22 23 24 25 26 27 28      19 20 21 22 23 24 25\n",
      "24 25 26 27 28 29 30      29 30 31                  26 27 28 29 30\n",
      "\n",
      "        July                     August                  September\n",
      "Mo Tu We Th Fr Sa Su      Mo Tu We Th Fr Sa Su      Mo Tu We Th Fr Sa Su\n",
      "                1  2          1  2  3  4  5  6                   1  2  3\n",
      " 3  4  5  6  7  8  9       7  8  9 10 11 12 13       4  5  6  7  8  9 10\n",
      "10 11 12 13 14 15 16      14 15 16 17 18 19 20      11 12 13 14 15 16 17\n",
      "17 18 19 20 21 22 23      21 22 23 24 25 26 27      18 19 20 21 22 23 24\n",
      "24 25 26 27 28 29 30      28 29 30 31               25 26 27 28 29 30\n",
      "31\n",
      "\n",
      "      October                   November                  December\n",
      "Mo Tu We Th Fr Sa Su      Mo Tu We Th Fr Sa Su      Mo Tu We Th Fr Sa Su\n",
      "                   1             1  2  3  4  5                   1  2  3\n",
      " 2  3  4  5  6  7  8       6  7  8  9 10 11 12       4  5  6  7  8  9 10\n",
      " 9 10 11 12 13 14 15      13 14 15 16 17 18 19      11 12 13 14 15 16 17\n",
      "16 17 18 19 20 21 22      20 21 22 23 24 25 26      18 19 20 21 22 23 24\n",
      "23 24 25 26 27 28 29      27 28 29 30               25 26 27 28 29 30 31\n",
      "30 31\n",
      "\n"
     ]
    }
   ],
   "source": [
    "year = int(input(\"enter year : \"))\n",
    "\n",
    "print(calendar.calendar(year))"
   ]
  },
  {
   "cell_type": "markdown",
   "metadata": {},
   "source": [
    "# 4.\tWrite a Python program to solve quadratic equation?"
   ]
  },
  {
   "cell_type": "code",
   "execution_count": 2,
   "metadata": {},
   "outputs": [
    {
     "name": "stdin",
     "output_type": "stream",
     "text": [
      "enter value of a:  2\n",
      "enter value of b:  3\n",
      "enter value of c:  -2\n"
     ]
    },
    {
     "name": "stdout",
     "output_type": "stream",
     "text": [
      "both roots are real values\n",
      "0.5\n",
      "-2.0\n"
     ]
    }
   ],
   "source": [
    "import math\n",
    "\n",
    "def findroots(a,b,c):\n",
    "    \n",
    "    # calculating discriminant value\n",
    "    \n",
    "    discr_value = (b*b) - (4*a*c)\n",
    "    sqrt_value = math.sqrt(abs(discr_value))\n",
    "    \n",
    "    # discriminant condition\n",
    "    \n",
    "    if discr_value > 0:\n",
    "        print('both roots are real values')\n",
    "        print((-b + sqrt_value)/(2*a))\n",
    "        print((-b - sqrt_value)/(2*a))\n",
    "    \n",
    "    \n",
    "    elif discr_value == 0:\n",
    "        print('only one real roots are possible')\n",
    "        print(-b/2*a)\n",
    "   \n",
    "\n",
    "    # if discriminat value is less than zero    \n",
    "    else:\n",
    "        print('both roots are complex values')\n",
    "        print((-b + sqrt_value)/(2*a), \"+ i\", sqrt_value)\n",
    "        print((-b - sqrt_value)/(2*a), \"- i\", sqrt_value)\n",
    "        \n",
    "        \n",
    "a = float(input(\"enter value of a: \"))\n",
    "b = float(input(\"enter value of b: \"))\n",
    "c = float(input(\"enter value of c: \"))\n",
    "\n",
    "\n",
    "# if a=0 then equation is incorrect\n",
    "\n",
    "if a==0:\n",
    "    print('value of \"a\" cannot be zero, \"a\" should be greater than zero' )\n",
    "    \n",
    "else:\n",
    "    findroots(a,b,c)\n",
    "    "
   ]
  },
  {
   "cell_type": "markdown",
   "metadata": {},
   "source": [
    "# 5.\tWrite a Python program to swap two variables without temp variable?"
   ]
  },
  {
   "cell_type": "code",
   "execution_count": 3,
   "metadata": {},
   "outputs": [
    {
     "name": "stdout",
     "output_type": "stream",
     "text": [
      "value of x: 20\n",
      "value of y: 10\n"
     ]
    }
   ],
   "source": [
    "x=10\n",
    "y=20\n",
    "\n",
    "x,y = y,x\n",
    "\n",
    "print('value of x:', x)\n",
    "print('value of y:', y)"
   ]
  },
  {
   "cell_type": "code",
   "execution_count": null,
   "metadata": {},
   "outputs": [],
   "source": []
  }
 ],
 "metadata": {
  "kernelspec": {
   "display_name": "Python 3",
   "language": "python",
   "name": "python3"
  },
  "language_info": {
   "codemirror_mode": {
    "name": "ipython",
    "version": 3
   },
   "file_extension": ".py",
   "mimetype": "text/x-python",
   "name": "python",
   "nbconvert_exporter": "python",
   "pygments_lexer": "ipython3",
   "version": "3.8.3"
  }
 },
 "nbformat": 4,
 "nbformat_minor": 5
}
