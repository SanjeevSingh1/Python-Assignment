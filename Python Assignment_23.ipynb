{
 "cells": [
  {
   "cell_type": "markdown",
   "id": "d446f821-f9aa-4ca6-9eb7-76b6cf92e1be",
   "metadata": {},
   "source": [
    "# 1. What is the result of the code, and why?\n",
    "&gt;&gt;&gt; def func(a, b=6, c=8):\n",
    "\n",
    "print(a, b, c)\n",
    "\n",
    "&gt;&gt;&gt; func(1, 2)"
   ]
  },
  {
   "cell_type": "code",
   "execution_count": 4,
   "id": "238ba4bd-a4d2-4660-a59b-b71a2f924a6f",
   "metadata": {},
   "outputs": [
    {
     "name": "stdout",
     "output_type": "stream",
     "text": [
      "1 2 8\n"
     ]
    }
   ],
   "source": [
    "def func(a,b=6,c=8):\n",
    "    print(a,b,c)\n",
    "    \n",
    "func(1,2)\n",
    "\n",
    "# The function is taking positional arguments and two keyword arguments when function call parameter are a=1, b=2 and \n",
    "# for c it uses the default value i.e 8 which is provided at the time of declaration."
   ]
  },
  {
   "cell_type": "markdown",
   "id": "653205c0-27ad-44ee-9f9d-8c3ac7c4c67c",
   "metadata": {},
   "source": [
    "# 2. What is the result of this code, and why?\n",
    "&gt;&gt;&gt; def func(a, b, c=5):\n",
    "\n",
    "print(a, b, c)\n",
    "\n",
    "&gt;&gt;&gt; func(1, c=3, b=2)"
   ]
  },
  {
   "cell_type": "code",
   "execution_count": 6,
   "id": "434c9aba-995a-4991-8430-7255d534aa03",
   "metadata": {},
   "outputs": [
    {
     "name": "stdout",
     "output_type": "stream",
     "text": [
      "1 2 3\n"
     ]
    }
   ],
   "source": [
    "def func(a,b,c=5):\n",
    "    print(a,b,c)\n",
    "    \n",
    "func(1,c=3,b=2)\n",
    "\n",
    "# The function will use default values only when a value for a argument is not provided and if argument name is mentioned while\n",
    "# doing a function call the order of argument is also ignored by the python interpretor."
   ]
  },
  {
   "cell_type": "markdown",
   "id": "f5768e78-c14e-4639-a330-569f81366cf1",
   "metadata": {},
   "source": [
    "# 3. How about this code: what is its result, and why?\n",
    "&gt;&gt;&gt; def func(a, *pargs):\n",
    "\n",
    "print(a, pargs)\n",
    "\n",
    "&gt;&gt;&gt; func(1, 2, 3)"
   ]
  },
  {
   "cell_type": "code",
   "execution_count": 5,
   "id": "85c1ed65-4e50-4997-bf04-e72477db2934",
   "metadata": {},
   "outputs": [
    {
     "name": "stdout",
     "output_type": "stream",
     "text": [
      "1 (2, 3)\n"
     ]
    },
    {
     "data": {
      "text/plain": [
       "'In this function one is positional argument and other is Arbitary arguments or variable lenth arguments. Here * means  \\n we can pass variable number of arguments to *pargs. During function call first value will assign to positional argument i.e a=1 and \\n the rest will be assign to arbitary argument i.e *pargs=(2,3)'"
      ]
     },
     "execution_count": 5,
     "metadata": {},
     "output_type": "execute_result"
    }
   ],
   "source": [
    "def func(a,*pargs):\n",
    "    print(a,pargs)\n",
    "    \n",
    "func(1,2,3)\n",
    "\n",
    "'''In this function one is positional argument and other is Arbitary arguments or variable lenth arguments. Here * means  \n",
    " we can pass variable number of arguments to *pargs. During function call first value will assign to positional argument i.e a=1 and \n",
    " the rest will be assign to arbitary argument i.e *pargs=(2,3)'''"
   ]
  },
  {
   "cell_type": "markdown",
   "id": "a541fdeb-ccaa-4af7-94d8-6158c76f454e",
   "metadata": {},
   "source": [
    "# 4. What does this code print, and why?\n",
    "&gt;&gt;&gt; def func(a, **kargs):\n",
    "    \n",
    "print(a, kargs)\n",
    "\n",
    "&gt;&gt;&gt; func(a=1, c=3, b=2)"
   ]
  },
  {
   "cell_type": "code",
   "execution_count": 11,
   "id": "239fc0f7-27fc-4275-8444-108b6a76a210",
   "metadata": {},
   "outputs": [
    {
     "name": "stdout",
     "output_type": "stream",
     "text": [
      "1 {'c': 3, 'b': 2}\n"
     ]
    },
    {
     "data": {
      "text/plain": [
       "' In function **kargs is used for keyword arguments which means when we call function it will give output in key-values pairs(dictionary).'"
      ]
     },
     "execution_count": 11,
     "metadata": {},
     "output_type": "execute_result"
    }
   ],
   "source": [
    "def func(a,**kargs):\n",
    "    print(a,kargs)\n",
    "    \n",
    "func(a=1,c=3,b=2)\n",
    "\n",
    "''' In function **kargs is used for keyword arguments which means when we call function it will give output in key-values pairs(dictionary).''' "
   ]
  },
  {
   "cell_type": "markdown",
   "id": "15b360f2-6019-4bce-a5b3-4153d1553c4b",
   "metadata": {},
   "source": [
    "# 5. What gets printed by this, and explain?\n",
    "&gt;&gt;&gt; def func(a, b, c=8, d=5): \n",
    "\n",
    "print(a, b, c, d)\n",
    "\n",
    "&gt;&gt;&gt; func(1, *(5, 6))"
   ]
  },
  {
   "cell_type": "code",
   "execution_count": 13,
   "id": "34560f30-a50e-4b47-9b4b-c4eb498eeeae",
   "metadata": {},
   "outputs": [
    {
     "name": "stdout",
     "output_type": "stream",
     "text": [
      "1 5 6 5\n"
     ]
    },
    {
     "data": {
      "text/plain": [
       "' * is the unpacking operator and operator that unpack the values from iterable objects in python. The single asterisk \\n operator * can be used on any iterable that python provides, while the double asterisk operator ** can be used on dictionarys.\\n i.e, the value *(5,6) will be unpacked and will be assigned to b and c and pass as arguments, d=5 will taken as default keyword\\n argument.'"
      ]
     },
     "execution_count": 13,
     "metadata": {},
     "output_type": "execute_result"
    }
   ],
   "source": [
    "def func(a,b,c=8,d=5):\n",
    "    print(a,b,c,d)\n",
    "    \n",
    "func(1,*(5,6))\n",
    "\n",
    "\"\"\" * is the unpacking operator and operator that unpack the values from iterable objects in python. The single asterisk \n",
    " operator * can be used on any iterable that python provides, while the double asterisk operator ** can be used on dictionarys.\n",
    " i.e, the value *(5,6) will be unpacked and will be assigned to b and c and pass as arguments, d=5 will taken as default keyword\n",
    " argument.\"\"\""
   ]
  },
  {
   "cell_type": "markdown",
   "id": "5a5e656a-e021-456a-a152-13ec7dbbf225",
   "metadata": {},
   "source": [
    "# 6. what is the result of this, and explain?\n",
    "&gt;&gt;&gt; def func(a, b, c): a = 2; b[0] = &#39;x&#39;; c[&#39;a&#39;] = &#39;y&#39;\n",
    "\n",
    "&gt;&gt;&gt; l=1; m=[1]; n={&#39;a&#39;:0}\n",
    "                            \n",
    "&gt;&gt;&gt; func(l, m, n)\n",
    "\n",
    "&gt;&gt;&gt; l, m, n"
   ]
  },
  {
   "cell_type": "code",
   "execution_count": 14,
   "id": "788e739b-f571-4e2e-a8f7-2eec0fdb8c0b",
   "metadata": {},
   "outputs": [
    {
     "data": {
      "text/plain": [
       "\" Here in the code, the list and dict are passed as argument, and those are mutable. Here the list l and parameter b point \\n to the same list in the memory location where as dict n and c point to the same memory location. Any updates to this \\n list will update in the memory location\\n\\nl = 1 , integer values, immutable, m is list, mutable, n is dict, mutable.\\n#output will be = 1,['x'],{'a':'y'} \""
      ]
     },
     "execution_count": 14,
     "metadata": {},
     "output_type": "execute_result"
    }
   ],
   "source": [
    "def func(a, b, c): \n",
    "    a = 2; b[0] = 'x'; c['a'] = 'y'\n",
    "\n",
    "l=1; m=[1]; n={'a':0}\n",
    "\n",
    "func(l, m, n)\n",
    "\n",
    "l, m, n\n",
    "\n",
    "\"\"\" Here in the code, the list and dict are passed as argument, and those are mutable. Here the list l and parameter b point \n",
    " to the same list in the memory location where as dict n and c point to the same memory location. Any updates to this \n",
    " list will update in the memory location\n",
    "\n",
    "l = 1 , integer values, immutable, m is list, mutable, n is dict, mutable.\n",
    "#output will be = 1,['x'],{'a':'y'} \"\"\""
   ]
  },
  {
   "cell_type": "code",
   "execution_count": null,
   "id": "6e38a0b5-9081-423c-94e4-6fc43c98e5ce",
   "metadata": {},
   "outputs": [],
   "source": []
  }
 ],
 "metadata": {
  "kernelspec": {
   "display_name": "Python 3 (ipykernel)",
   "language": "python",
   "name": "python3"
  },
  "language_info": {
   "codemirror_mode": {
    "name": "ipython",
    "version": 3
   },
   "file_extension": ".py",
   "mimetype": "text/x-python",
   "name": "python",
   "nbconvert_exporter": "python",
   "pygments_lexer": "ipython3",
   "version": "3.10.6"
  }
 },
 "nbformat": 4,
 "nbformat_minor": 5
}
