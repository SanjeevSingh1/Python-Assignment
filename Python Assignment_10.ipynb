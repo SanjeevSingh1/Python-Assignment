{
 "cells": [
  {
   "cell_type": "markdown",
   "id": "78421b49-5c72-44b0-b3a0-9a5767d76a40",
   "metadata": {},
   "source": [
    "# 1. How do you distinguish between shutil.copy() and shutil.copytree()?"
   ]
  },
  {
   "cell_type": "markdown",
   "id": "0eede5dd-97e0-4ccf-be34-dff58c50c9b3",
   "metadata": {},
   "source": [
    "Shutil.copy() will copy a single file"
   ]
  },
  {
   "cell_type": "markdown",
   "id": "386ad766-f6b5-409a-9d24-81440f48a60d",
   "metadata": {},
   "source": [
    "shutil.copytree() will copy an entire folder and every folder and file contained in it."
   ]
  },
  {
   "cell_type": "markdown",
   "id": "a5569835-94ea-4041-bc9d-417854a4fdc0",
   "metadata": {},
   "source": [
    "# 2. What function is used to rename files??"
   ]
  },
  {
   "cell_type": "markdown",
   "id": "3e75e38b-03c1-41eb-becf-71ed86bc709c",
   "metadata": {},
   "source": [
    "shutil.copy() function and os.rename() method is used to rename a file or directory"
   ]
  },
  {
   "cell_type": "markdown",
   "id": "d25eae25-72d3-4ac2-a8fe-056d3463c95c",
   "metadata": {},
   "source": [
    "# 3. What is the difference between the delete functions in the send2trash and shutil modules?"
   ]
  },
  {
   "cell_type": "markdown",
   "id": "dca70929-d9f2-48f6-82fc-df673bc64834",
   "metadata": {},
   "source": [
    "The send2trash functions will move a file or folder to recyle bin, while shutil functions will permanently delete files and folders."
   ]
  },
  {
   "cell_type": "markdown",
   "id": "52463f86-b1af-42fc-87be-7db8d804d954",
   "metadata": {},
   "source": [
    "# 4.ZipFile objects have a close() method just like File objects’ close() method. What ZipFile method is equivalent to File objects’ open() method?"
   ]
  },
  {
   "cell_type": "markdown",
   "id": "e1df71d7-ae1b-4299-85dd-570f8ed42fcc",
   "metadata": {},
   "source": [
    "The zipfile.ZipFile() function is equivalent to the open() function; the first argument is the filename, and the second argument is the mode to open the ZIP file in (read, write, or append)."
   ]
  },
  {
   "cell_type": "markdown",
   "id": "c41a389e-1e16-4100-a7c0-69bd5f747f65",
   "metadata": {},
   "source": [
    "# 5. Create a programme that searches a folder tree for files with a certain file extension (such as .pdf or .jpg). Copy these files from whatever location they are in to a new folder."
   ]
  },
  {
   "cell_type": "code",
   "execution_count": null,
   "id": "22e4ae7e-f68b-471e-9947-439e626ade3d",
   "metadata": {},
   "outputs": [],
   "source": []
  }
 ],
 "metadata": {
  "kernelspec": {
   "display_name": "Python 3 (ipykernel)",
   "language": "python",
   "name": "python3"
  },
  "language_info": {
   "codemirror_mode": {
    "name": "ipython",
    "version": 3
   },
   "file_extension": ".py",
   "mimetype": "text/x-python",
   "name": "python",
   "nbconvert_exporter": "python",
   "pygments_lexer": "ipython3",
   "version": "3.10.6"
  }
 },
 "nbformat": 4,
 "nbformat_minor": 5
}
