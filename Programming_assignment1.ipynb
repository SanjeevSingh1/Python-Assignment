{
 "cells": [
  {
   "cell_type": "markdown",
   "id": "018f260e-a891-47f9-8c9b-3fec7ed7bfb5",
   "metadata": {},
   "source": [
    "# 1.\tWrite a Python program to print \"Hello Python\"?"
   ]
  },
  {
   "cell_type": "code",
   "execution_count": 1,
   "id": "e9235fb8-98e7-47ef-8c86-7aa6040c564f",
   "metadata": {},
   "outputs": [
    {
     "name": "stdout",
     "output_type": "stream",
     "text": [
      "Hello Python\n"
     ]
    }
   ],
   "source": [
    "\"Hello Python\"\n",
    "\n",
    "print(\"Hello Python\")"
   ]
  },
  {
   "cell_type": "markdown",
   "id": "5f5049f9-cade-45b2-88e1-b50228f6572b",
   "metadata": {},
   "source": [
    "# 2.\tWrite a Python program to do arithmetical operations addition and division.?"
   ]
  },
  {
   "cell_type": "code",
   "execution_count": 2,
   "id": "d562dbc9-dac0-444c-9bfe-613d753a5e9d",
   "metadata": {},
   "outputs": [
    {
     "name": "stdout",
     "output_type": "stream",
     "text": [
      "79\n",
      "0.7555555555555555\n"
     ]
    }
   ],
   "source": [
    "a,b = 34,45\n",
    "\n",
    "add = a+b\n",
    "print(add)\n",
    "\n",
    "div = a/b\n",
    "print(div)"
   ]
  },
  {
   "cell_type": "markdown",
   "id": "1ece2e19-c2e1-4048-98e0-26d85b4ce61d",
   "metadata": {},
   "source": [
    "# 3.\tWrite a Python program to find the area of a triangle?"
   ]
  },
  {
   "cell_type": "code",
   "execution_count": 21,
   "id": "6f88f8c0-c03d-4233-ad8a-5253f4a01923",
   "metadata": {},
   "outputs": [
    {
     "name": "stdin",
     "output_type": "stream",
     "text": [
      "enter_height_of_base 1.777\n",
      "enter_length_of_base 3.9222\n"
     ]
    },
    {
     "name": "stdout",
     "output_type": "stream",
     "text": [
      "area of triangle is: 3.4848746999999998\n"
     ]
    }
   ],
   "source": [
    "# Three sides of a triangle is a,b,c \n",
    "\n",
    "height_H = float(input('enter_height_of_base'))\n",
    "\n",
    "base = float(input('enter_length_of_base')) \n",
    "\n",
    "Area = base*height_H/2\n",
    "\n",
    "print(f'area of triangle is: {Area}')"
   ]
  },
  {
   "cell_type": "markdown",
   "id": "445fb5eb-71e3-4b7f-a0db-b226d9a4c729",
   "metadata": {},
   "source": [
    "# 4.\tWrite a Python program to swap two variables?"
   ]
  },
  {
   "cell_type": "code",
   "execution_count": 15,
   "id": "a233aba7-0346-439d-9d69-b5c4c92ee296",
   "metadata": {},
   "outputs": [
    {
     "name": "stdout",
     "output_type": "stream",
     "text": [
      "value of x : 30\n",
      "value of y: 20\n"
     ]
    }
   ],
   "source": [
    "x = 20\n",
    "y = 30\n",
    "\n",
    "x,y = y,x\n",
    "\n",
    "print('value of x :', x)\n",
    "print('value of y:', y)"
   ]
  },
  {
   "cell_type": "markdown",
   "id": "a9182485-7bde-43c1-96c9-9b4300ee51d4",
   "metadata": {},
   "source": [
    "# 5.\tWrite a Python program to generate a random number?"
   ]
  },
  {
   "cell_type": "code",
   "execution_count": 22,
   "id": "9d3837ff-7d0e-4c3d-8f9f-e14f534b2d33",
   "metadata": {},
   "outputs": [
    {
     "data": {
      "text/plain": [
       "0.8236997532475294"
      ]
     },
     "execution_count": 22,
     "metadata": {},
     "output_type": "execute_result"
    }
   ],
   "source": [
    "import random\n",
    "\n",
    "random.random() # this function will generate a random number between 0 to 1"
   ]
  },
  {
   "cell_type": "code",
   "execution_count": 20,
   "id": "cb2ead97-5741-43a9-b670-cd36043ab0cb",
   "metadata": {},
   "outputs": [
    {
     "data": {
      "text/plain": [
       "3"
      ]
     },
     "execution_count": 20,
     "metadata": {},
     "output_type": "execute_result"
    }
   ],
   "source": [
    "random.randint(1,5) # while this function will generate a random number between given range"
   ]
  },
  {
   "cell_type": "code",
   "execution_count": null,
   "id": "c02a51a0-db57-4860-ae5c-aef5d0142137",
   "metadata": {},
   "outputs": [],
   "source": []
  }
 ],
 "metadata": {
  "kernelspec": {
   "display_name": "Python 3 (ipykernel)",
   "language": "python",
   "name": "python3"
  },
  "language_info": {
   "codemirror_mode": {
    "name": "ipython",
    "version": 3
   },
   "file_extension": ".py",
   "mimetype": "text/x-python",
   "name": "python",
   "nbconvert_exporter": "python",
   "pygments_lexer": "ipython3",
   "version": "3.10.6"
  }
 },
 "nbformat": 4,
 "nbformat_minor": 5
}
